{
 "cells": [
  {
   "cell_type": "markdown",
   "metadata": {},
   "source": [
    "# incremental_enrollment_trial-processing_results\n",
    "---------\n",
    "\n",
    "결과 분석"
   ]
  },
  {
   "cell_type": "markdown",
   "metadata": {},
   "source": [
    "## Environment"
   ]
  },
  {
   "cell_type": "code",
   "execution_count": 1,
   "metadata": {},
   "outputs": [
    {
     "name": "stdout",
     "output_type": "stream",
     "text": [
      "Using matplotlib backend: TkAgg\n",
      "Populating the interactive namespace from numpy and matplotlib\n"
     ]
    }
   ],
   "source": [
    "%load_ext autoreload\n",
    "%autoreload 2\n",
    "%pylab\n",
    "%matplotlib inline\n",
    "\n",
    "import pandas as pd\n",
    "import pickle\n",
    "import numpy as np\n",
    "import sys\n",
    "import os"
   ]
  },
  {
   "cell_type": "code",
   "execution_count": 2,
   "metadata": {},
   "outputs": [],
   "source": [
    "sys.path.append('/host/projects/sv_experiments/sv_system')\n",
    "os.environ[\"CUDA_DEVICE_ORDER\"]=\"PCI_BUS_ID\"   # see issue #152\n",
    "os.environ[\"CUDA_VISIBLE_DEVICES\"]=\"1\""
   ]
  },
  {
   "cell_type": "code",
   "execution_count": 3,
   "metadata": {},
   "outputs": [],
   "source": [
    "from utils import key2df\n",
    "from utils import compute_eer"
   ]
  },
  {
   "cell_type": "markdown",
   "metadata": {},
   "source": [
    "## Results\n",
    "\n",
    "Meta data는 result.pkl에 저장되고, \n",
    "\n",
    "posScore(target sample에 대한 score), negScore(non-target sample에 대한 score), answer(verification output)만을 사용해서 결과를 뽑는다."
   ]
  },
  {
   "cell_type": "markdown",
   "metadata": {},
   "source": [
    "### Base result"
   ]
  },
  {
   "cell_type": "code",
   "execution_count": 24,
   "metadata": {},
   "outputs": [
    {
     "name": "stdout",
     "output_type": "stream",
     "text": [
      "[base_n_enr_full_pRatio_0.9] eer:3.2733, acc:97.2148\n"
     ]
    }
   ],
   "source": [
    "records = {}\n",
    "base_dir = \"test_out/\"\n",
    "for t_dir in os.listdir(base_dir):\n",
    "    posScore = pickle.load(open(base_dir+t_dir+'/posScores.pkl', 'rb'))\n",
    "    negScore = pickle.load(open(base_dir+t_dir+'/negScores.pkl', 'rb'))\n",
    "    result = pickle.load(open(base_dir+t_dir+'/result.pkl', \"rb\"))\n",
    "    n_correct_trials = sum([r[3] for r in result])\n",
    "    n_total_trials = sum([r[2] for r in result])\n",
    "    acc = n_correct_trials / n_total_trials\n",
    "    eer, thresh = compute_eer(posScore, negScore)\n",
    "    print(\"[base_{}] eer:{:.4f}, acc:{:.4f}\".format(t_dir, eer*100, acc*100))\n",
    "    records['base_'+t_dir] = (eer, acc)"
   ]
  },
  {
   "cell_type": "markdown",
   "metadata": {},
   "source": [
    "### Incremental system result"
   ]
  },
  {
   "cell_type": "code",
   "execution_count": 25,
   "metadata": {
    "scrolled": false
   },
   "outputs": [
    {
     "ename": "FileNotFoundError",
     "evalue": "[Errno 2] No such file or directory: './test_out/n_enr3_results/inc/'",
     "output_type": "error",
     "traceback": [
      "\u001b[0;31m---------------------------------------------------------------------------\u001b[0m",
      "\u001b[0;31mFileNotFoundError\u001b[0m                         Traceback (most recent call last)",
      "\u001b[0;32m<ipython-input-25-7a814001222d>\u001b[0m in \u001b[0;36m<module>\u001b[0;34m()\u001b[0m\n\u001b[1;32m      3\u001b[0m \u001b[0;32mfor\u001b[0m \u001b[0menr\u001b[0m \u001b[0;32min\u001b[0m \u001b[0;34m[\u001b[0m\u001b[0;34m'3'\u001b[0m\u001b[0;34m,\u001b[0m\u001b[0;34m'5'\u001b[0m\u001b[0;34m,\u001b[0m\u001b[0;34m'7'\u001b[0m\u001b[0;34m,\u001b[0m \u001b[0;34m'9'\u001b[0m\u001b[0;34m]\u001b[0m\u001b[0;34m:\u001b[0m \u001b[0;31m# n_enr cases\u001b[0m\u001b[0;34m\u001b[0m\u001b[0m\n\u001b[1;32m      4\u001b[0m     \u001b[0msubpath\u001b[0m \u001b[0;34m=\u001b[0m \u001b[0;34m'n_enr'\u001b[0m\u001b[0;34m+\u001b[0m\u001b[0menr\u001b[0m\u001b[0;34m+\u001b[0m\u001b[0;34m'_results/'\u001b[0m\u001b[0;34m\u001b[0m\u001b[0m\n\u001b[0;32m----> 5\u001b[0;31m     \u001b[0;32mfor\u001b[0m \u001b[0mn\u001b[0m \u001b[0;32min\u001b[0m \u001b[0msorted\u001b[0m\u001b[0;34m(\u001b[0m\u001b[0mos\u001b[0m\u001b[0;34m.\u001b[0m\u001b[0mlistdir\u001b[0m\u001b[0;34m(\u001b[0m\u001b[0mbase_dir\u001b[0m\u001b[0;34m+\u001b[0m\u001b[0msubpath\u001b[0m\u001b[0;34m+\u001b[0m\u001b[0;34m'inc/'\u001b[0m\u001b[0;34m)\u001b[0m\u001b[0;34m)\u001b[0m\u001b[0;34m:\u001b[0m\u001b[0;34m\u001b[0m\u001b[0m\n\u001b[0m\u001b[1;32m      6\u001b[0m         \u001b[0;32mfor\u001b[0m \u001b[0mt_dir\u001b[0m \u001b[0;32min\u001b[0m \u001b[0msorted\u001b[0m\u001b[0;34m(\u001b[0m\u001b[0mos\u001b[0m\u001b[0;34m.\u001b[0m\u001b[0mlistdir\u001b[0m\u001b[0;34m(\u001b[0m\u001b[0mbase_dir\u001b[0m\u001b[0;34m+\u001b[0m\u001b[0msubpath\u001b[0m\u001b[0;34m+\u001b[0m\u001b[0;34m'inc/'\u001b[0m\u001b[0;34m+\u001b[0m \u001b[0mn\u001b[0m\u001b[0;34m)\u001b[0m\u001b[0;34m)\u001b[0m\u001b[0;34m:\u001b[0m\u001b[0;34m\u001b[0m\u001b[0m\n\u001b[1;32m      7\u001b[0m             \u001b[0mposScore\u001b[0m \u001b[0;34m=\u001b[0m \u001b[0mpickle\u001b[0m\u001b[0;34m.\u001b[0m\u001b[0mload\u001b[0m\u001b[0;34m(\u001b[0m\u001b[0mopen\u001b[0m\u001b[0;34m(\u001b[0m\u001b[0mbase_dir\u001b[0m\u001b[0;34m+\u001b[0m\u001b[0msubpath\u001b[0m\u001b[0;34m+\u001b[0m\u001b[0;34m'inc/'\u001b[0m\u001b[0;34m+\u001b[0m\u001b[0mn\u001b[0m\u001b[0;34m+\u001b[0m\u001b[0;34m'/'\u001b[0m\u001b[0;34m+\u001b[0m\u001b[0mt_dir\u001b[0m\u001b[0;34m+\u001b[0m\u001b[0;34m'/posScores.pkl'\u001b[0m\u001b[0;34m,\u001b[0m \u001b[0;34m'rb'\u001b[0m\u001b[0;34m)\u001b[0m\u001b[0;34m)\u001b[0m\u001b[0;34m\u001b[0m\u001b[0m\n",
      "\u001b[0;31mFileNotFoundError\u001b[0m: [Errno 2] No such file or directory: './test_out/n_enr3_results/inc/'"
     ]
    }
   ],
   "source": [
    "inc_records = {}\n",
    "base_dir = \"./test_out/\"\n",
    "for enr in ['3','5','7', '9']: # n_enr cases\n",
    "    subpath = 'n_enr'+enr+'_results/'\n",
    "    for n in sorted(os.listdir(base_dir+subpath+'inc/')):\n",
    "        for t_dir in sorted(os.listdir(base_dir+subpath+'inc/'+ n)):\n",
    "            posScore = pickle.load(open(base_dir+subpath+'inc/'+n+'/'+t_dir+'/posScores.pkl', 'rb'))\n",
    "            negScore = pickle.load(open(base_dir+subpath+'inc/'+n+'/'+t_dir+'/negScores.pkl', 'rb'))\n",
    "            result = pickle.load(open(base_dir+t_dir+'/result.pkl', \"rb\"))\n",
    "            n_correct_trials = sum([r[3] for r in result])\n",
    "            n_total_trials = sum([r[2] for r in result])\n",
    "            acc = n_correct_trials / n_total_trials\n",
    "            eer, thresh = compute_eer(posScore, negScore)\n",
    "            print('inc_{}: eer: {:.5f}, acc: {:.5f}'.format(t_dir, eer*100, acc*100))\n",
    "            inc_records[n+'_inc_'+t_dir] = (eer, acc)"
   ]
  },
  {
   "cell_type": "markdown",
   "metadata": {},
   "source": [
    "### Write results to txt"
   ]
  },
  {
   "cell_type": "code",
   "execution_count": 27,
   "metadata": {
    "scrolled": false
   },
   "outputs": [],
   "source": [
    "eer_string = ''\n",
    "acc_string = ''\n",
    "#for trial in ['1','2','3','4','5']:\n",
    "for trial in ['1']:\n",
    "    eer_string += 'Q3\\tQ5\\tQ7\\tQ9\\tQ3\\tQ5\\tQ7\\tQ9\\tQ3\\tQ5\\tQ7\\tQ9\\tQ3\\tQ5\\tQ7\\tQ9\\n'\n",
    "    acc_string += 'Q3\\tQ5\\tQ7\\tQ9\\tQ3\\tQ5\\tQ7\\tQ9\\tQ3\\tQ5\\tQ7\\tQ9\\tQ3\\tQ5\\tQ7\\tQ9\\n'\n",
    "    for option in ['', '_initEnr', '_thresUpdt', '_initEnr_thresUpdt']:\n",
    "        for ratio in ['0.01', '0.1', '0.5', '0.9']:\n",
    "            for enr in ['3', '5', '7', '9']:\n",
    "                key = trial + '_inc_n_enr_' + enr + '_pRatio_' + ratio + option\n",
    "                #if key in inc_records.keys():\n",
    "                eer = inc_records[key][0]\n",
    "                acc = inc_records[key][1]\n",
    "                eer_string += '{:.5f}'.format(eer*100) + '\\t'\n",
    "                acc_string += '{:.5f}'.format(acc*100) + '\\t'\n",
    "\n",
    "        eer_string += '\\n'\n",
    "        acc_string += '\\n'\n",
    "    eer_string += '\\n'\n",
    "    acc_string += '\\n'\n",
    "\n",
    "with open(base_dir + 'acc_excel.txt', 'w') as f:\n",
    "    f.write(acc_string)\n",
    "with open(base_dir + 'eer_excel.txt', 'w') as f:\n",
    "    f.write(eer_string)"
   ]
  }
 ],
 "metadata": {
  "kernelspec": {
   "display_name": "Python 3",
   "language": "python",
   "name": "python3"
  },
  "language_info": {
   "codemirror_mode": {
    "name": "ipython",
    "version": 3
   },
   "file_extension": ".py",
   "mimetype": "text/x-python",
   "name": "python",
   "nbconvert_exporter": "python",
   "pygments_lexer": "ipython3",
   "version": "3.6.5"
  }
 },
 "nbformat": 4,
 "nbformat_minor": 2
}
