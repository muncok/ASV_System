{
 "cells": [
  {
   "cell_type": "markdown",
   "metadata": {},
   "source": [
    "ref: https://musicinformationretrieval.com/ipython_audio.html"
   ]
  },
  {
   "cell_type": "code",
   "execution_count": 1,
   "metadata": {},
   "outputs": [
    {
     "name": "stdout",
     "output_type": "stream",
     "text": [
      "Populating the interactive namespace from numpy and matplotlib\n"
     ]
    }
   ],
   "source": [
    "%load_ext autoreload\n",
    "%autoreload 2\n",
    "%pylab inline\n",
    "import pandas as pd\n",
    "import os"
   ]
  },
  {
   "cell_type": "code",
   "execution_count": 4,
   "metadata": {},
   "outputs": [],
   "source": [
    "import librosa\n",
    "import librosa.display\n",
    "import IPython.display as ipd"
   ]
  },
  {
   "cell_type": "code",
   "execution_count": 54,
   "metadata": {},
   "outputs": [],
   "source": [
    "def strip_audio(x, frame_length=1024, hop_length=256, rms_ths=0.2):\n",
    "    # compute energy\n",
    "    energy = numpy.array([\n",
    "        sum(abs(x[i:i+frame_length]**2))\n",
    "        for i in range(0, len(x), hop_length)\n",
    "    ])\n",
    "    rmse = librosa.feature.rmse(x, frame_length=frame_length, hop_length=hop_length)[0]\n",
    "    rms_ratio = rmse/rmse.max()\n",
    "    active_frames = np.nonzero(rms_ratio > rms_ths)[0]\n",
    "    if len(active_frames) == 0:\n",
    "        return x\n",
    "    # strip continous active part\n",
    "    s_sample = librosa.frames_to_samples(active_frames[0], hop_length=hop_length)[0]\n",
    "    e_sample = librosa.frames_to_samples(active_frames[-1], hop_length=hop_length)[0]\n",
    "    \n",
    "    frames = range(len(energy))\n",
    "    t = librosa.frames_to_time(frames, sr=sr, hop_length=hop_length)\n",
    "    librosa.display.waveplot(x, sr=sr, alpha=0.4)\n",
    "    plt.plot(t, energy/energy.max(), 'r--')             # normalized for visualization\n",
    "    plt.plot(t[:len(rmse)], rmse/rmse.max(), color='g') # normalized for visualization\n",
    "    plt.legend(('Energy', 'RMSE'))\n",
    "\n",
    "    return x[s_sample:e_sample], "
   ]
  },
  {
   "cell_type": "code",
   "execution_count": 4,
   "metadata": {},
   "outputs": [],
   "source": [
    "def _timeshift_audio(self, data):\n",
    "    shift = (16000 * self.timeshift_ms) // 1000\n",
    "    shift = random.randint(-shift, shift)\n",
    "    a = -min(0, shift)\n",
    "    b = max(0, shift)\n",
    "    data = np.pad(data, (a, b), \"constant\")\n",
    "    return data[:len(data) - a] if a else data[b:]"
   ]
  },
  {
   "cell_type": "code",
   "execution_count": 45,
   "metadata": {},
   "outputs": [
    {
     "ename": "NameError",
     "evalue": "name 'energy' is not defined",
     "output_type": "error",
     "traceback": [
      "\u001b[0;31m---------------------------------------------------------------------------\u001b[0m",
      "\u001b[0;31mNameError\u001b[0m                                 Traceback (most recent call last)",
      "\u001b[0;32m<ipython-input-45-4e684e24faf3>\u001b[0m in \u001b[0;36m<module>\u001b[0;34m()\u001b[0m\n\u001b[0;32m----> 1\u001b[0;31m \u001b[0mframes\u001b[0m \u001b[0;34m=\u001b[0m \u001b[0mrange\u001b[0m\u001b[0;34m(\u001b[0m\u001b[0mlen\u001b[0m\u001b[0;34m(\u001b[0m\u001b[0menergy\u001b[0m\u001b[0;34m)\u001b[0m\u001b[0;34m)\u001b[0m\u001b[0;34m\u001b[0m\u001b[0m\n\u001b[0m\u001b[1;32m      2\u001b[0m \u001b[0mt\u001b[0m \u001b[0;34m=\u001b[0m \u001b[0mlibrosa\u001b[0m\u001b[0;34m.\u001b[0m\u001b[0mframes_to_time\u001b[0m\u001b[0;34m(\u001b[0m\u001b[0mframes\u001b[0m\u001b[0;34m,\u001b[0m \u001b[0msr\u001b[0m\u001b[0;34m=\u001b[0m\u001b[0msr\u001b[0m\u001b[0;34m,\u001b[0m \u001b[0mhop_length\u001b[0m\u001b[0;34m=\u001b[0m\u001b[0mhop_length\u001b[0m\u001b[0;34m)\u001b[0m\u001b[0;34m\u001b[0m\u001b[0m\n\u001b[1;32m      3\u001b[0m \u001b[0mlibrosa\u001b[0m\u001b[0;34m.\u001b[0m\u001b[0mdisplay\u001b[0m\u001b[0;34m.\u001b[0m\u001b[0mwaveplot\u001b[0m\u001b[0;34m(\u001b[0m\u001b[0mx\u001b[0m\u001b[0;34m,\u001b[0m \u001b[0msr\u001b[0m\u001b[0;34m=\u001b[0m\u001b[0msr\u001b[0m\u001b[0;34m,\u001b[0m \u001b[0malpha\u001b[0m\u001b[0;34m=\u001b[0m\u001b[0;36m0.4\u001b[0m\u001b[0;34m)\u001b[0m\u001b[0;34m\u001b[0m\u001b[0m\n\u001b[1;32m      4\u001b[0m \u001b[0mplt\u001b[0m\u001b[0;34m.\u001b[0m\u001b[0mplot\u001b[0m\u001b[0;34m(\u001b[0m\u001b[0mt\u001b[0m\u001b[0;34m,\u001b[0m \u001b[0menergy\u001b[0m\u001b[0;34m/\u001b[0m\u001b[0menergy\u001b[0m\u001b[0;34m.\u001b[0m\u001b[0mmax\u001b[0m\u001b[0;34m(\u001b[0m\u001b[0;34m)\u001b[0m\u001b[0;34m,\u001b[0m \u001b[0;34m'r--'\u001b[0m\u001b[0;34m)\u001b[0m             \u001b[0;31m# normalized for visualization\u001b[0m\u001b[0;34m\u001b[0m\u001b[0m\n\u001b[1;32m      5\u001b[0m \u001b[0mplt\u001b[0m\u001b[0;34m.\u001b[0m\u001b[0mplot\u001b[0m\u001b[0;34m(\u001b[0m\u001b[0mt\u001b[0m\u001b[0;34m[\u001b[0m\u001b[0;34m:\u001b[0m\u001b[0mlen\u001b[0m\u001b[0;34m(\u001b[0m\u001b[0mrmse\u001b[0m\u001b[0;34m)\u001b[0m\u001b[0;34m]\u001b[0m\u001b[0;34m,\u001b[0m \u001b[0mrmse\u001b[0m\u001b[0;34m/\u001b[0m\u001b[0mrmse\u001b[0m\u001b[0;34m.\u001b[0m\u001b[0mmax\u001b[0m\u001b[0;34m(\u001b[0m\u001b[0;34m)\u001b[0m\u001b[0;34m,\u001b[0m \u001b[0mcolor\u001b[0m\u001b[0;34m=\u001b[0m\u001b[0;34m'g'\u001b[0m\u001b[0;34m)\u001b[0m \u001b[0;31m# normalized for visualization\u001b[0m\u001b[0;34m\u001b[0m\u001b[0m\n",
      "\u001b[0;31mNameError\u001b[0m: name 'energy' is not defined"
     ]
    }
   ],
   "source": [
    "frames = range(len(energy))\n",
    "t = librosa.frames_to_time(frames, sr=sr, hop_length=hop_length)\n",
    "librosa.display.waveplot(x, sr=sr, alpha=0.4)\n",
    "plt.plot(t, energy/energy.max(), 'r--')             # normalized for visualization\n",
    "plt.plot(t[:len(rmse)], rmse/rmse.max(), color='g') # normalized for visualization\n",
    "plt.legend(('Energy', 'RMSE'))"
   ]
  },
  {
   "cell_type": "code",
   "execution_count": 6,
   "metadata": {},
   "outputs": [],
   "source": [
    "dataframe_dir = '/home/muncok/DL/dataset/SV_sets/dataframes/'\n",
    "data_dir = '/home/muncok/DL/dataset/SV_sets/speech_commands/'\n",
    "command_df = pd.read_pickle(os.path.join(dataframe_dir,'Command_Dataframe.pkl'))"
   ]
  },
  {
   "cell_type": "code",
   "execution_count": 44,
   "metadata": {},
   "outputs": [
    {
     "name": "stderr",
     "output_type": "stream",
     "text": [
      "/home/muncok/anaconda3/envs/pytorch/lib/python3.6/site-packages/ipykernel_launcher.py:8: RuntimeWarning: invalid value encountered in true_divide\n",
      "  \n",
      "/home/muncok/anaconda3/envs/pytorch/lib/python3.6/site-packages/ipykernel_launcher.py:9: RuntimeWarning: invalid value encountered in greater\n",
      "  if __name__ == '__main__':\n"
     ]
    }
   ],
   "source": [
    "test_df = command_df\n",
    "for i, row in test_df.iterrows():\n",
    "    file_path = os.path.join(data_dir, row.sent, row.file)\n",
    "    save_path = 'test_audio/{}'.format(row.sent)\n",
    "    if not os.path.exists(save_path): \n",
    "        os.makedirs('test_audio/{}'.format(row.sent))\n",
    "    x, sr = librosa.load(file_path, sr=16000)\n",
    "    striped_x = strip_audio(x, rms_ths=0.2)\n",
    "    librosa.output.write_wav(os.path.join(save_path, row.file), striped_x, sr)"
   ]
  },
  {
   "cell_type": "code",
   "execution_count": 37,
   "metadata": {},
   "outputs": [
    {
     "data": {
      "text/plain": [
       "set()"
      ]
     },
     "execution_count": 37,
     "metadata": {},
     "output_type": "execute_result"
    }
   ],
   "source": [
    "set(ex_audio) - set(exist_files)"
   ]
  },
  {
   "cell_type": "code",
   "execution_count": 40,
   "metadata": {},
   "outputs": [
    {
     "data": {
      "text/plain": [
       "6412"
      ]
     },
     "execution_count": 40,
     "metadata": {},
     "output_type": "execute_result"
    }
   ],
   "source": [
    "len(set(ex_audio))"
   ]
  },
  {
   "cell_type": "code",
   "execution_count": 21,
   "metadata": {},
   "outputs": [],
   "source": [
    "exist_files = os.listdir('test_audio/')"
   ]
  },
  {
   "cell_type": "code",
   "execution_count": 55,
   "metadata": {},
   "outputs": [
    {
     "ename": "ValueError",
     "evalue": "not enough values to unpack (expected 2, got 1)",
     "output_type": "error",
     "traceback": [
      "\u001b[0;31m---------------------------------------------------------------------------\u001b[0m",
      "\u001b[0;31mValueError\u001b[0m                                Traceback (most recent call last)",
      "\u001b[0;32m<ipython-input-55-23e8ee87fd77>\u001b[0m in \u001b[0;36m<module>\u001b[0;34m()\u001b[0m\n\u001b[1;32m      1\u001b[0m \u001b[0mx\u001b[0m\u001b[0;34m,\u001b[0m \u001b[0msr\u001b[0m \u001b[0;34m=\u001b[0m \u001b[0mlibrosa\u001b[0m\u001b[0;34m.\u001b[0m\u001b[0mload\u001b[0m\u001b[0;34m(\u001b[0m\u001b[0mfile_path\u001b[0m\u001b[0;34m,\u001b[0m \u001b[0msr\u001b[0m\u001b[0;34m=\u001b[0m\u001b[0;36m16000\u001b[0m\u001b[0;34m)\u001b[0m\u001b[0;34m\u001b[0m\u001b[0m\n\u001b[0;32m----> 2\u001b[0;31m \u001b[0mstriped_x\u001b[0m\u001b[0;34m,\u001b[0m \u001b[0mfig\u001b[0m \u001b[0;34m=\u001b[0m \u001b[0mstrip_audio\u001b[0m\u001b[0;34m(\u001b[0m\u001b[0mx\u001b[0m\u001b[0;34m,\u001b[0m \u001b[0mrms_ths\u001b[0m\u001b[0;34m=\u001b[0m\u001b[0;36m0.2\u001b[0m\u001b[0;34m)\u001b[0m\u001b[0;34m\u001b[0m\u001b[0m\n\u001b[0m\u001b[1;32m      3\u001b[0m \u001b[0mipd\u001b[0m\u001b[0;34m.\u001b[0m\u001b[0mAudio\u001b[0m\u001b[0;34m(\u001b[0m\u001b[0mdata\u001b[0m\u001b[0;34m=\u001b[0m\u001b[0mstriped_x\u001b[0m\u001b[0;34m,\u001b[0m\u001b[0mrate\u001b[0m\u001b[0;34m=\u001b[0m\u001b[0msr\u001b[0m\u001b[0;34m)\u001b[0m\u001b[0;34m\u001b[0m\u001b[0m\n",
      "\u001b[0;31mValueError\u001b[0m: not enough values to unpack (expected 2, got 1)"
     ]
    },
    {
     "data": {
      "image/png": "[encoded data removed]",
      "text/plain": [
       "<matplotlib.figure.Figure at 0x7fbb4b56c7b8>"
      ]
     },
     "metadata": {},
     "output_type": "display_data"
    }
   ],
   "source": [
    "x, sr = librosa.load(file_path, sr=16000)\n",
    "striped_x, fig = strip_audio(x, rms_ths=0.2)\n",
    "ipd.Audio(data=striped_x,rate=sr) "
   ]
  },
  {
   "cell_type": "code",
   "execution_count": 5,
   "metadata": {},
   "outputs": [
    {
     "data": {
      "text/html": [
       "\n",
       "                <audio controls=\"controls\" >\n",
       "                    <source src=\"data:audio/wav;base64,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\" type=\"audio/wav\" />\n",
       "                    Your browser does not support the audio element.\n",
       "                </audio>\n",
       "              "
      ],
      "text/plain": [
       "<IPython.lib.display.Audio object>"
      ]
     },
     "execution_count": 5,
     "metadata": {},
     "output_type": "execute_result"
    }
   ],
   "source": [
    "import librosa\n",
    "x, sr = librosa.load(\"/home/muncok/DL/dataset/SV_sets/speech_commands_vad/bed/004ae714_nohash_0.wav\", sr=16000)\n",
    "ipd.Audio(data=x,rate=sr) "
   ]
  },
  {
   "cell_type": "code",
   "execution_count": 7,
   "metadata": {},
   "outputs": [
    {
     "data": {
      "text/plain": [
       "4352"
      ]
     },
     "execution_count": 7,
     "metadata": {},
     "output_type": "execute_result"
    }
   ],
   "source": [
    "len(x)"
   ]
  },
  {
   "cell_type": "markdown",
   "metadata": {},
   "source": [
    "***\n",
    "### Check"
   ]
  },
  {
   "cell_type": "code",
   "execution_count": null,
   "metadata": {},
   "outputs": [],
   "source": [
    "test_df"
   ]
  },
  {
   "cell_type": "code",
   "execution_count": null,
   "metadata": {},
   "outputs": [],
   "source": [
    "import csv\n",
    "import random\n",
    "\n",
    "manifest_dir = \"manifests/test\"\n",
    "\n",
    "samples = []\n",
    "save_path = os.path.join(manifest_dir,'test_manifest.csv')\n",
    "with open(save_path, 'w') as f:\n",
    "    for index, row in test_df.iterrows():\n",
    "#         file_path = os.path.join(data_dir, row.sent, row.file)\n",
    "        file_path = \"/home/muncok/DL/projects/sv_system/test_audio/{}\".format(row.file)\n",
    "        label = row.label\n",
    "        sample = ','.join([file_path, str(label)])\n",
    "        samples.append(sample)\n",
    "    writer = csv.writer(f, delimiter='\\n', quoting=csv.QUOTE_NONE)\n",
    "    writer.writerow(samples)\n",
    "    print(\"{} was written\".format(save_path))"
   ]
  },
  {
   "cell_type": "code",
   "execution_count": null,
   "metadata": {},
   "outputs": [],
   "source": [
    "import honk_sv.train as hk\n",
    "from honk_sv import model as mod"
   ]
  },
  {
   "cell_type": "code",
   "execution_count": null,
   "metadata": {},
   "outputs": [],
   "source": [
    "model = \"cnn-trad-pool2\"\n",
    "dataset = \"command\"\n",
    "\n",
    "global_config = dict(model=model, dataset=dataset,\n",
    "                     no_cuda=False,  gpu_no=0, \n",
    "                     n_epochs=30, batch_size=32,\n",
    "                     lr=[0.001], schedule=[np.inf], dev_every=1, seed=0, use_nesterov=False,\n",
    "                     cache_size=32768, momentum=0.9, weight_decay=0.00001, \n",
    "                     num_workers=8, print_step=100,\n",
    "                     bn_size = 256)\n",
    "\n",
    "builder = hk.ConfigBuilder(\n",
    "                mod.find_config(model),\n",
    "                mod.SpeechDataset.default_config(dataset),\n",
    "                global_config)\n",
    "parser = builder.build_argparse()\n",
    "config = builder.config_from_argparse(parser)\n",
    "config['model_class'] = mod.find_model(model)\n",
    "hk.set_seed(config)"
   ]
  },
  {
   "cell_type": "code",
   "execution_count": null,
   "metadata": {},
   "outputs": [],
   "source": [
    "config['n_labels'] = 2000\n",
    "si_model = config['model_class'](config)\n",
    "si_model.load(\"models/si_command_random_model.pt\")\n",
    "config['test_manifest'] = \"manifests/test/test_manifest.csv\""
   ]
  },
  {
   "cell_type": "code",
   "execution_count": null,
   "metadata": {},
   "outputs": [],
   "source": [
    "import torch.utils.data as data\n",
    "_, _, test_set = mod.SpeechDataset.read_manifest(config)\n",
    "test_loader = data.DataLoader(test_set, batch_size=config['batch_size'])"
   ]
  },
  {
   "cell_type": "markdown",
   "metadata": {},
   "source": [
    "***"
   ]
  },
  {
   "cell_type": "code",
   "execution_count": null,
   "metadata": {},
   "outputs": [],
   "source": [
    "import torch\n",
    "import torch.autograd as autograd\n",
    "import torch.nn as nn\n",
    "import torch.nn.functional as F\n",
    "import torch.optim as optim\n",
    "\n",
    "torch.manual_seed(1)"
   ]
  },
  {
   "cell_type": "code",
   "execution_count": null,
   "metadata": {},
   "outputs": [],
   "source": [
    "lstm = nn.LSTM(3,3)\n",
    "inputs = [autograd.Variable(torch.randn((1,3)))\n",
    "          for _ in range(5)]\n",
    "\n",
    "# initialize the hidden state.\n",
    "hidden = (autograd.Variable(torch.randn(1,1,3)),\n",
    "         autograd.Variable(torch.randn((1,1,3))))\n",
    "\n",
    "for i in inputs:\n",
    "    out, hidden = lstm(i.view(1,1,-1), hidden)  # (1,3) --> (1,1,3)\n",
    "    \n",
    "inputs = torch.cat(inputs).view(len(inputs), 1, -1)\n",
    "hidden = (autograd.Variable(torch.randn(1, 1, 3)), autograd.Variable(\n",
    "    torch.randn((1, 1, 3))))  # clean out hidden state\n",
    "out, hidden = lstm(inputs, hidden)\n",
    "print(out) # print out all hidden state through sequence\n",
    "print(hidden) # last hidden state, cell state"
   ]
  },
  {
   "cell_type": "code",
   "execution_count": null,
   "metadata": {},
   "outputs": [],
   "source": [
    "def prepare_sequence(seq, to_ix):\n",
    "    idxs = [to_ix[w] for w in seq]\n",
    "    tensor = torch.LongTensor(idxs)\n",
    "    return autograd.Variable(tensor)\n",
    "\n",
    "training_data = [\n",
    "    (\"The dog ate the apple\".split(), [\"DET\", \"NN\", \"V\", \"DET\", \"NN\"]),\n",
    "    (\"Everybody read that book\".split(), [\"NN\", \"V\", \"DET\", \"NN\"])\n",
    "]\n",
    "\n",
    "word_to_ix = {}\n",
    "for sent, tags in training_data:\n",
    "    for word in sent:\n",
    "        if word not in word_to_ix:\n",
    "            word_to_ix[word] = len(word_to_ix)\n",
    "            \n",
    "print(word_to_ix)\n",
    "tag_to_ix = {\"DET\": 0, \"NN\": 1, \"V\": 2}\n",
    "\n",
    "# These will usually be more like 32 or 64 dimensional.\n",
    "# We will keep them small, so we can see how the weights change as we train.\n",
    "EMBEDDING_DIM = 6\n",
    "HIDDEN_DIM = 6"
   ]
  },
  {
   "cell_type": "code",
   "execution_count": null,
   "metadata": {},
   "outputs": [],
   "source": [
    "class LSTMTagger(nn.Module):\n",
    "    def __init__(self, embedding_dim, hidden_dim, vocab_size, target_size):\n",
    "        super(LSTMTagger, self).__init__()\n",
    "        self.hidden_dim = hidden_dim\n",
    "        self.word_embeddings = nn.Embedding(vocab_size, embedding_dim)\n",
    "        self.lstm = nn.LSTM(embedding_dim, hidden_dim)\n",
    "        \n",
    "        self.hidden2tag = nn.Linear(hidden_dim, target_size)\n",
    "        self.hidden = self.init_hidden()\n",
    "        \n",
    "    def init_hidden(self):\n",
    "        # The axes semantics are (num_layers, minibatch_size, hidden_dim)\n",
    "        return (autograd.Variable(torch.zeros(1, 1, self.hidden_dim)), \n",
    "                autograd.Variable(torch.zeros(1,1,self.hidden_dim)))\n",
    "        \n",
    "    def forward(self, sentence):\n",
    "        embeds = self.word_embeddings(sentence)\n",
    "        # need to input initial hidden states\n",
    "        lstm_out, self.hidden = self.lstm(embeds.view(len(sentence), 1, -1), self.hidden)\n",
    "        tag_space = self.hidden2tag(lstm_out.view(len(sentence), -1))\n",
    "        tag_scores = F.log_softmax(tag_space)\n",
    "        return tag_scores"
   ]
  },
  {
   "cell_type": "code",
   "execution_count": null,
   "metadata": {},
   "outputs": [],
   "source": [
    "model = LSTMTagger(EMBEDDING_DIM, HIDDEN_DIM, len(word_to_ix), len(tag_to_ix))\n",
    "loss_function = nn.NLLLoss()\n",
    "optimizer = optim.SGD(model.parameters(), lr=0.1)\n",
    "\n",
    "# See what the scores are before training\n",
    "# Note that element i,j of the output is the score for tag j for word i.\n",
    "inputs = prepare_sequence(training_data[0][0], word_to_ix)\n",
    "tag_scores = model(inputs)\n",
    "print(tag_scores)\n",
    "\n",
    "for epoch in range(300):  # again, normally you would NOT do 300 epochs, it is toy data\n",
    "    for sentence, tags in training_data:\n",
    "        # Step 1. Remember that Pytorch accumulates gradients.\n",
    "        # We need to clear them out before each instance\n",
    "        model.zero_grad()\n",
    "\n",
    "        # Also, we need to clear out the hidden state of the LSTM,\n",
    "        # detaching it from its history on the last instance.\n",
    "        model.hidden = model.init_hidden()\n",
    "\n",
    "        # Step 2. Get our inputs ready for the network, that is, turn them into\n",
    "        # Variables of word indices.\n",
    "        sentence_in = prepare_sequence(sentence, word_to_ix)\n",
    "        targets = prepare_sequence(tags, tag_to_ix)\n",
    "\n",
    "        # Step 3. Run our forward pass.\n",
    "        tag_scores = model(sentence_in)\n",
    "\n",
    "        # Step 4. Compute the loss, gradients, and update the parameters by\n",
    "        #  calling optimizer.step()\n",
    "        loss = loss_function(tag_scores, targets)\n",
    "        loss.backward()\n",
    "        optimizer.step()\n",
    "\n",
    "# See what the scores are after training\n",
    "inputs = prepare_sequence(training_data[0][0], word_to_ix)\n",
    "tag_scores = model(inputs)\n",
    "# The sentence is \"the dog ate the apple\".  i,j corresponds to score for tag j\n",
    "#  for word i. The predicted tag is the maximum scoring tag.\n",
    "# Here, we can see the predicted sequence below is 0 1 2 0 1\n",
    "# since 0 is index of the maximum value of row 1,\n",
    "# 1 is the index of maximum value of row 2, etc.\n",
    "# Which is DET NOUN VERB DET NOUN, the correct sequence!\n",
    "print(tag_scores)"
   ]
  },
  {
   "cell_type": "code",
   "execution_count": null,
   "metadata": {},
   "outputs": [],
   "source": []
  },
  {
   "cell_type": "code",
   "execution_count": null,
   "metadata": {},
   "outputs": [],
   "source": []
  }
 ],
 "metadata": {
  "kernelspec": {
   "display_name": "Pytorch",
   "language": "python",
   "name": "pytorch"
  },
  "language_info": {
   "codemirror_mode": {
    "name": "ipython",
    "version": 3
   },
   "file_extension": ".py",
   "mimetype": "text/x-python",
   "name": "python",
   "nbconvert_exporter": "python",
   "pygments_lexer": "ipython3",
   "version": "3.6.2"
  }
 },
 "nbformat": 4,
 "nbformat_minor": 2
}
