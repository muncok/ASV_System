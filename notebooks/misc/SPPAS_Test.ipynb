{
 "cells": [
  {
   "cell_type": "markdown",
   "metadata": {},
   "source": [
    "### Post-Annotation Processing"
   ]
  },
  {
   "cell_type": "code",
   "execution_count": 3,
   "metadata": {},
   "outputs": [
    {
     "name": "stdout",
     "output_type": "stream",
     "text": [
      "<ipykernel.iostream.OutStream object at 0x7f07f4ffa290>\n",
      "Read the file /home/ideal_kar/PyTorch/Workspace/speakerverification/tools/SPPAS-1.9.3/documentation/scripting_solutions/F_F_B003-P9-merge.TextGrid\n",
      "   Number of tiers: 11.\n",
      "    Tier PhonAlign successfully added.\n",
      "    Tier TokensAlign successfully added.\n",
      "    Error: the file does not contain a tier with name = toto\n",
      "The file F_F_B003-P9-selection.TextGrid was successfully saved.\n"
     ]
    }
   ],
   "source": [
    "import os, sys\n",
    "old_stdout = sys.stdout\n",
    "sys.stdout\n",
    "\n",
    "SPPAS_IS_HERE = os.path.join(\"..\", \"tools\", \"SPPAS-1.9.3\")\n",
    "sys.path.append(SPPAS_IS_HERE)\n",
    "\n",
    "import sppas.src.annotationdata.aio as trsaio\n",
    "from sppas.src.annotationdata import Transcription\n",
    "\n",
    "sys.stdout = old_stdout\n",
    "# ----------------------------------------------------------------------------\n",
    "# Variables\n",
    "# ----------------------------------------------------------------------------\n",
    "\n",
    "# The input file name\n",
    "filename = '/home/ideal_kar/PyTorch/Workspace/speakerverification/tools/SPPAS-1.9.3/documentation/scripting_solutions/F_F_B003-P9-merge.TextGrid'\n",
    "\n",
    "# The list of tiers we want to select\n",
    "tier_names = ['PhonAlign', 'TokensAlign', 'toto']\n",
    "\n",
    "# The output file name\n",
    "output_filename = 'F_F_B003-P9-selection.TextGrid'\n",
    "\n",
    "# ----------------------------------------------------------------------------\n",
    "# Main\n",
    "# ----------------------------------------------------------------------------\n",
    "\n",
    "# Read an annotated file.\n",
    "print(\"Read the file {:s}\".format(filename))\n",
    "trs = trsaio.read(filename)\n",
    "print(\"   Number of tiers: {:d}.\".format(trs.GetSize()))\n",
    "\n",
    "# Create a new Transcription to add selected tiers.\n",
    "new_trs = Transcription()\n",
    "\n",
    "# Select some tiers, add into the new Transcription\n",
    "for name in tier_names:\n",
    "    tier = trs.Find(name, case_sensitive=False)\n",
    "    if tier is not None:\n",
    "        new_trs.Append(tier)\n",
    "        print(\"    Tier {:s} successfully added.\".format(tier.GetName()))\n",
    "    else:\n",
    "        print(\"    Error: the file does not contain a tier with name = {:s}\".format(name))\n",
    "\n",
    "# Save the Transcription into a file.\n",
    "trsaio.write(output_filename, new_trs)\n",
    "if os.path.exists(output_filename) is True:\n",
    "    print(\"The file {:s} was successfully saved.\".format(output_filename))\n",
    "else:\n",
    "    print(\"The file {:s} wasn't saved.\".format(output_filename))"
   ]
  },
  {
   "cell_type": "markdown",
   "metadata": {
    "collapsed": true
   },
   "source": [
    "### "
   ]
  },
  {
   "cell_type": "code",
   "execution_count": 2,
   "metadata": {},
   "outputs": [],
   "source": []
  },
  {
   "cell_type": "code",
   "execution_count": null,
   "metadata": {
    "collapsed": true
   },
   "outputs": [],
   "source": []
  }
 ],
 "metadata": {
  "kernelspec": {
   "display_name": "Python 2",
   "language": "python",
   "name": "python2"
  },
  "language_info": {
   "codemirror_mode": {
    "name": "ipython",
    "version": 2
   },
   "file_extension": ".py",
   "mimetype": "text/x-python",
   "name": "python",
   "nbconvert_exporter": "python",
   "pygments_lexer": "ipython2",
   "version": "2.7.14"
  }
 },
 "nbformat": 4,
 "nbformat_minor": 2
}
