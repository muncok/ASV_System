{
 "cells": [
  {
   "cell_type": "markdown",
   "metadata": {},
   "source": [
    "ref: https://musicinformationretrieval.com/ipython_audio.html"
   ]
  },
  {
   "cell_type": "code",
   "execution_count": 88,
   "metadata": {},
   "outputs": [
    {
     "name": "stdout",
     "output_type": "stream",
     "text": [
      "The autoreload extension is already loaded. To reload it, use:\n",
      "  %reload_ext autoreload\n",
      "Populating the interactive namespace from numpy and matplotlib\n"
     ]
    }
   ],
   "source": [
    "%load_ext autoreload\n",
    "%autoreload 2\n",
    "%pylab inline\n",
    "import pandas as pd\n",
    "import os"
   ]
  },
  {
   "cell_type": "code",
   "execution_count": 89,
   "metadata": {},
   "outputs": [],
   "source": [
    "import librosa\n",
    "import librosa.display\n",
    "import IPython.display as ipd"
   ]
  },
  {
   "cell_type": "code",
   "execution_count": 90,
   "metadata": {},
   "outputs": [],
   "source": [
    "def strip_audio(x, frame_length=1024, hop_length=256, rms_ths=0.2):\n",
    "    # compute energy\n",
    "    energy = numpy.array([\n",
    "        sum(abs(x[i:i+frame_length]**2))\n",
    "        for i in range(0, len(x), hop_length)\n",
    "    ])\n",
    "    rmse = librosa.feature.rmse(x, frame_length=frame_length, hop_length=hop_length)[0]\n",
    "    rms_ratio = rmse/rmse.max()\n",
    "    active_frames = np.nonzero(rms_ratio > rms_ths)[0]\n",
    "    if len(active_frames) == 0:\n",
    "        return x\n",
    "    # strip continous active part\n",
    "    s_sample = librosa.frames_to_samples(active_frames[0], hop_length=hop_length)[0]\n",
    "    e_sample = librosa.frames_to_samples(active_frames[-1], hop_length=hop_length)[0]  \n",
    "#     frames = range(len(energy))\n",
    "#     t = librosa.frames_to_time(frames, sr=sr, hop_length=hop_length)\n",
    "#     librosa.display.waveplot(x, sr=sr, alpha=0.4)\n",
    "#     plt.plot(t, energy/energy.max(), 'r--')             # normalized for visualization\n",
    "#     plt.plot(t[:len(rmse)], rmse/rmse.max(), color='g') # normalized for visualization\n",
    "#     plt.legend(('Energy', 'RMSE'))\n",
    "\n",
    "    return x[s_sample:e_sample]"
   ]
  },
  {
   "cell_type": "code",
   "execution_count": 4,
   "metadata": {},
   "outputs": [],
   "source": [
    "def _timeshift_audio(self, data):\n",
    "    shift = (16000 * self.timeshift_ms) // 1000\n",
    "    shift = random.randint(-shift, shift)\n",
    "    a = -min(0, shift)\n",
    "    b = max(0, shift)\n",
    "    data = np.pad(data, (a, b), \"constant\")\n",
    "    return data[:len(data) - a] if a else data[b:]"
   ]
  },
  {
   "cell_type": "markdown",
   "metadata": {},
   "source": [
    "### Speech Commands"
   ]
  },
  {
   "cell_type": "code",
   "execution_count": 92,
   "metadata": {},
   "outputs": [],
   "source": [
    "dataframe_dir = '/home/muncok/DL/dataset/SV_sets/dataframes/'\n",
    "data_dir = '/home/muncok/DL/dataset/SV_sets/speech_commands/'\n",
    "command_df = pd.read_pickle(os.path.join(dataframe_dir,'Command_Dataframe.pkl'))"
   ]
  },
  {
   "cell_type": "code",
   "execution_count": 103,
   "metadata": {},
   "outputs": [
    {
     "name": "stderr",
     "output_type": "stream",
     "text": [
      "/home/muncok/anaconda3/envs/pytorch/lib/python3.6/site-packages/ipykernel_launcher.py:8: RuntimeWarning: invalid value encountered in true_divide\n",
      "  \n",
      "/home/muncok/anaconda3/envs/pytorch/lib/python3.6/site-packages/ipykernel_launcher.py:9: RuntimeWarning: invalid value encountered in greater\n",
      "  if __name__ == '__main__':\n"
     ]
    }
   ],
   "source": [
    "import soundfile as sf\n",
    "\n",
    "for i, row in command_df.iterrows():\n",
    "    file_path = os.path.join(data_dir, row.sent, row.file)\n",
    "    save_path = 'vad/speech_commands/{}'.format(row.sent)\n",
    "    if not os.path.exists(save_path): \n",
    "        os.makedirs(save_path)\n",
    "    x, sr = sf.read(file_path)\n",
    "    striped_x = strip_audio(x, rms_ths=0.2)\n",
    "    sf.write(os.path.join(save_path, row.file), striped_x, sr)"
   ]
  }
 ],
 "metadata": {
  "kernelspec": {
   "display_name": "Pytorch",
   "language": "python",
   "name": "pytorch"
  },
  "language_info": {
   "codemirror_mode": {
    "name": "ipython",
    "version": 3
   },
   "file_extension": ".py",
   "mimetype": "text/x-python",
   "name": "python",
   "nbconvert_exporter": "python",
   "pygments_lexer": "ipython3",
   "version": "3.6.2"
  }
 },
 "nbformat": 4,
 "nbformat_minor": 2
}
