{
 "cells": [
  {
   "cell_type": "code",
   "execution_count": 1,
   "metadata": {
    "collapsed": true
   },
   "outputs": [],
   "source": [
    "import os\n",
    "os.sys.path.append('../')\n",
    "import data.data_loader as DL"
   ]
  },
  {
   "cell_type": "code",
   "execution_count": 2,
   "metadata": {
    "collapsed": true
   },
   "outputs": [],
   "source": [
    "SITW_home_dir = '/home/ideal_kar/Dataset/sitw_database.v4/'\n",
    "SITW_dev_dir = os.path.join(SITW_home_dir, 'dev/')\n",
    "SITW_eval_dir = os.path.join(SITW_home_dir, 'eval/')\n",
    "SITW_dev_key_dir = os.path.join(SITW_dev_dir, 'key/')\n",
    "SITW_eval_key_dir = os.path.join(SITW_eval_dir, 'key/')"
   ]
  },
  {
   "cell_type": "code",
   "execution_count": 3,
   "metadata": {
    "collapsed": true
   },
   "outputs": [],
   "source": [
    "temp_audio = DL.load_audio(SITW_dev_dir + 'audio/zzpjc.flac')"
   ]
  },
  {
   "cell_type": "code",
   "execution_count": 3,
   "metadata": {
    "collapsed": true
   },
   "outputs": [],
   "source": [
    "def read_meta_info(mode, SITW_home_dir, testPOI=None):\n",
    "    \n",
    "    if mode is 'dev':\n",
    "        SITW_dev_dir = os.path.join(SITW_home_dir, 'dev/')\n",
    "        SITW_eval_dir = None\n",
    "    elif mode is 'eval':\n",
    "        SITW_dev_dir = None\n",
    "        SITW_eval_dir = os.path.join(SITW_home_dir, 'eval/')\n",
    "    elif mode is 'all':\n",
    "        SITW_dev_dir = os.path.join(SITW_home_dir, 'dev/')\n",
    "        SITW_eval_dir = os.path.join(SITW_home_dir, 'eval/')\n",
    "    else:\n",
    "        raise BaseException(\"Invalid mode\")\n",
    "        \n",
    "    if testPOI is None:\n",
    "        testPOI = []\n",
    "    \n",
    "    file_dirs, spk_IDs, genders, sess_IDs, mic_types, spk_nums, artifacts, levels, rec_envs, metadata \\\n",
    "    = [], [], [], [], [], [], [], [], [], []\n",
    "    \n",
    "    file_dirs_v, spk_IDs_v, genders_v, sess_IDs_v, mic_types_v, spk_nums_v, artifacts_v, levels_v, rec_envs_v, metadata_v \\\n",
    "    = [], [], [], [], [], [], [], [], [], []\n",
    "    \n",
    "    SITW_dirs = [SITW_dev_dir, SITW_eval_dir]\n",
    "    count = 0\n",
    "    for SITW_dir in SITW_dirs:\n",
    "        if SITW_dir is None:\n",
    "            continue\n",
    "        with open(SITW_dir + 'keys/meta.lst', 'r') as f:\n",
    "            lines = f.readlines()\n",
    "            \n",
    "            for line in lines:\n",
    "                count += 1\n",
    "                split_line = line.strip().split(' ')\n",
    "                if split_line[1][0] in testPOI:\n",
    "                    file_dirs_v.append(SITW_dir + split_line[0])\n",
    "                    spk_IDs_v.append(split_line[1])\n",
    "                    genders_v.append(split_line[2])\n",
    "                    sess_IDs_v.append(split_line[4])\n",
    "                    mic_types_v.append(split_line[3])\n",
    "                    spk_nums_v.append(split_line[7])\n",
    "                    artifacts_v.append(split_line[8])\n",
    "                    levels_v.append(split_line[9])\n",
    "                    rec_envs_v.append(split_line[10])\n",
    "                    try:\n",
    "                        metadata_v.append(split_line[11])\n",
    "                    except:\n",
    "                        metadata_v.append(None)\n",
    "                else:\n",
    "                    file_dirs.append(SITW_dir + split_line[0])\n",
    "                    spk_IDs.append(split_line[1])\n",
    "                    genders.append(split_line[2])\n",
    "                    sess_IDs.append(split_line[4])\n",
    "                    mic_types.append(split_line[3])\n",
    "                    spk_nums.append(split_line[7])\n",
    "                    artifacts.append(split_line[8])\n",
    "                    levels.append(split_line[9])\n",
    "                    rec_envs.append(split_line[10])\n",
    "                    try:\n",
    "                        metadata.append(split_line[11])\n",
    "                    except:\n",
    "                        metadata.append(None)\n",
    "    print(count)\n",
    "    return [file_dirs, spk_IDs, genders, sess_IDs, mic_types, spk_nums, artifacts, levels, rec_envs, metadata], \\\n",
    "            [file_dirs_v, spk_IDs_v, genders_v, sess_IDs_v, mic_types_v, spk_nums_v, artifacts_v, levels_v, rec_envs_v, metadata_v]"
   ]
  },
  {
   "cell_type": "code",
   "execution_count": 4,
   "metadata": {
    "collapsed": true
   },
   "outputs": [],
   "source": [
    "def spk_ID_to_label(spk_IDs):\n",
    "    label = []\n",
    "    mapping = {}\n",
    "    count = 0\n",
    "    for spk_ID in spk_IDs:\n",
    "        if spk_ID not in mapping:\n",
    "            label.append(count)\n",
    "            mapping[spk_ID] = count\n",
    "            count += 1\n",
    "        else:\n",
    "            label.append(mapping[spk_ID])\n",
    "    '''\n",
    "    @return vars\n",
    "    label: list type, contains numerical labels for whole spk_IDs \n",
    "    mapping: dict type, contains mapping between actual speaker & numerical label\n",
    "    '''\n",
    "    return label, mapping"
   ]
  },
  {
   "cell_type": "code",
   "execution_count": 38,
   "metadata": {
    "scrolled": false
   },
   "outputs": [
    {
     "name": "stdout",
     "output_type": "stream",
     "text": [
      "4841\n",
      "{'Q': 15, 'C': 15, 'Y': 14, 'O': 8, 'E': 11, 'V': 13, 'I': 16, 'A': 17, 'S': 8, 'P': 7, 'B': 18, 'Z': 7, 'D': 13, 'L': 11, 'R': 8, 'U': 6, 'T': 15, 'F': 15, 'N': 8, 'K': 17, 'M': 12, 'J': 11, 'G': 16, 'W': 12, 'H': 4, 'X': 2}\n"
     ]
    }
   ],
   "source": [
    "SITW_lists, _ = read_meta_info('all', SITW_home_dir)\n",
    "total_label_mapping = spk_ID_to_label(SITW_lists[1])[1]\n",
    "#print(spk_label_mapping)\n",
    "mapping = {}\n",
    "for spk_ID in total_label_mapping.keys():\n",
    "    \n",
    "    if spk_ID[0] not in mapping:\n",
    "        mapping[spk_ID[0]] = 1\n",
    "    else:\n",
    "        mapping[spk_ID[0]] += 1\n",
    "        \n",
    "print(mapping)\n",
    "        "
   ]
  },
  {
   "cell_type": "code",
   "execution_count": 29,
   "metadata": {
    "collapsed": true
   },
   "outputs": [],
   "source": [
    "def SITW_make_manifest(mode, SITW_home_dir, testPOI):\n",
    "    iden_lists, veri_lists = read_meta_info(mode, SITW_home_dir, testPOI)\n",
    "    \n",
    "    iden_label, iden_label_mapping = spk_ID_to_label(iden_lists[1])\n",
    "    \n",
    "    shuffle_index = shuffle(range(len(iden_lists[0])))\n",
    "    iden_lists = [[iden_list[j] for j in shuffle_index] for iden_list in iden_lists]\n",
    "    \n",
    "    shuffle_index = shuffle(range(len(veri_lists[0])))\n",
    "    veri_lists = [[veri_list[j] for j in shuffle_index] for veri_list in veri_lists]\n",
    "    \n",
    "    #print(len(iden_lists[0]), len(veri_lists[0]))\n",
    "    \n",
    "    iden_len = len(iden_lists[0])\n",
    "    train_lim = int(iden_len * 0.7)\n",
    "    val_lim = int(iden_len * 0.8)\n",
    "    \n",
    "    iden_datasets = {'train': zip(iden_lists[0][:train_lim], iden_label[:train_lim]), \\\n",
    "                     'val': zip(iden_lists[0][train_lim:val_lim], iden_label[train_lim:val_lim]), \\\n",
    "                     'test': zip(iden_lists[0][val_lim:], iden_label[val_lim:])}\n",
    "    \n",
    "    for dataset in iden_datasets.keys():\n",
    "        with open(\"../data/SITW_iden_{}_manifest.csv\".format(dataset), \"w\") as f:\n",
    "            for file_dir, label in iden_datasets[dataset]:\n",
    "                #print(dataset, len(iden_data))\n",
    "                f.write(file_dir + ',' + str(label))\n",
    "                f.write(os.linesep)\n",
    "        f.close()\n",
    "        \n",
    "    veri_train_c = list(itertools.combinations(iden_lists[0][:int(iden_len / 4)], 2))\n",
    "    veri_train_spk_c = list(itertools.combinations(iden_lists[1][:int(iden_len / 4)], 2))\n",
    "    veri_test_c = list(itertools.combinations(veri_lists[0][:int(len(veri_lists[0])/2)], 2))\n",
    "    veri_test_spk_c = list(itertools.combinations(veri_lists[1][:int(len(veri_lists[1])/2)], 2))\n",
    "\n",
    "    veri_datasets = {'train': zip(veri_train_c, veri_train_spk_c), 'test': zip(veri_test_c, veri_test_spk_c)}\n",
    "    print(len(veri_train_c), len(veri_train_spk_c))\n",
    "    print(len(veri_test_c), len(veri_test_spk_c))\n",
    "    \n",
    "    for dataset in veri_datasets.keys():\n",
    "        one_num, zero_num = 0, 0\n",
    "        with open(\"../data/SITW_veri_{}_manifest.csv\".format(dataset), \"w\") as f:\n",
    "            for dirs, spks in veri_datasets[dataset]:\n",
    "                line = dirs[0] + ',' + dirs[1] + ','\n",
    "                if spks[0] == spks[1]:\n",
    "                    line = line + '1'\n",
    "                    one_num += 1\n",
    "                else:\n",
    "                    line = line + '0'\n",
    "                    zero_num += 1\n",
    "                    \n",
    "                f.write(line + os.linesep)\n",
    "        f.close()\n",
    "        print(one_num, zero_num)"
   ]
  },
  {
   "cell_type": "code",
   "execution_count": 30,
   "metadata": {},
   "outputs": [
    {
     "name": "stdout",
     "output_type": "stream",
     "text": [
      "446040 446040\n",
      "140185 140185\n",
      "1929 444111\n",
      "2247 137938\n"
     ]
    }
   ],
   "source": [
    "from sklearn.utils import shuffle\n",
    "import itertools\n",
    "SITW_make_manifest('all', SITW_home_dir, ['A', 'B', 'C', 'D'])"
   ]
  },
  {
   "cell_type": "code",
   "execution_count": null,
   "metadata": {
    "collapsed": true
   },
   "outputs": [],
   "source": []
  },
  {
   "cell_type": "code",
   "execution_count": null,
   "metadata": {
    "collapsed": true
   },
   "outputs": [],
   "source": []
  }
 ],
 "metadata": {
  "kernelspec": {
   "display_name": "Python 3",
   "language": "python",
   "name": "python3"
  },
  "language_info": {
   "codemirror_mode": {
    "name": "ipython",
    "version": 3
   },
   "file_extension": ".py",
   "mimetype": "text/x-python",
   "name": "python",
   "nbconvert_exporter": "python",
   "pygments_lexer": "ipython3",
   "version": "3.6.3"
  }
 },
 "nbformat": 4,
 "nbformat_minor": 2
}
