{
 "cells": [
  {
   "cell_type": "code",
   "execution_count": 1,
   "metadata": {
    "collapsed": true
   },
   "outputs": [],
   "source": [
    "import os\n",
    "os.sys.path.append('../')\n",
    "import data.data_loader as DL\n",
    "import sys\n",
    "import wave\n",
    "from glob import glob"
   ]
  },
  {
   "cell_type": "code",
   "execution_count": 2,
   "metadata": {},
   "outputs": [
    {
     "ename": "SyntaxError",
     "evalue": "EOL while scanning string literal (<ipython-input-2-f570fb9090fd>, line 6)",
     "output_type": "error",
     "traceback": [
      "\u001b[0;36m  File \u001b[0;32m\"<ipython-input-2-f570fb9090fd>\"\u001b[0;36m, line \u001b[0;32m6\u001b[0m\n\u001b[0;31m    part_num = input('Part 01: Common Pass-phrases Text-Dependent\\n\u001b[0m\n\u001b[0m                                                                   ^\u001b[0m\n\u001b[0;31mSyntaxError\u001b[0m\u001b[0;31m:\u001b[0m EOL while scanning string literal\n"
     ]
    }
   ],
   "source": [
    "rDots_home_dir = '/home/ideal_kar/Dataset/reddots_r2015q4_v1/'\n",
    "rDots_pcm_dir = os.path.join(rDots_home_dir, 'pcm/')\n",
    "rDots_wav_dir = os.path.join(rDots_home_dir, 'wav/')\n",
    "rDots_ndx_dir = os.path.join(rDots_home_dir, 'ndx/')\n",
    "rDots_infos_dir = os.path.join(rDots_home_dir, 'infos/')\n",
    "\n",
    "part_num = input('Part #:')"
   ]
  },
  {
   "cell_type": "code",
   "execution_count": 19,
   "metadata": {
    "collapsed": true
   },
   "outputs": [],
   "source": [
    "def pcm_to_wav(audio_path, target_path, sampling_rate=16000):\n",
    "    if audio_path.split('.')[-1] != 'pcm':\n",
    "        raise BaseException('File is not pcm formatted')\n",
    "    \n",
    "    with open(audio_path, 'rb') as pcmfile:\n",
    "        pcmdata = pcmfile.read()\n",
    "    with wave.open(audio_path.replace('pcm', 'wav'), 'wb') as wavfile:\n",
    "        wavfile.setparams((1, 2, sampling_rate, 0, 'NONE', 'NONE'))\n",
    "        wavfile.writeframes(pcmdata)"
   ]
  },
  {
   "cell_type": "code",
   "execution_count": 20,
   "metadata": {
    "collapsed": true
   },
   "outputs": [],
   "source": [
    "def rDots_prepare_files(rDots_home_dir):\n",
    "    pcmfiles = []\n",
    "    pattern = '*.pcm'\n",
    "    \n",
    "    rDots_pcm_dir = os.path.join(rDots_home_dir, 'pcm/')\n",
    "    \n",
    "    rDots_wav_dir = os.path.join(rDots_home_dir, 'wav/')\n",
    "    \n",
    "    '''\n",
    "    Copy substructure of pcm directory to new wav directory for the first run\n",
    "    '''\n",
    "    if not os.path.exists(rDots_wav_dir):\n",
    "        os.mkdir(rDots_wav_dir)\n",
    "        \n",
    "        for dirpath, dirnames, filenames in os.walk(rDots_pcm_dir):\n",
    "            structure = os.path.join(rDots_wav_dir, dirpath[len(rDots_pcm_dir):])\n",
    "            if not os.path.isdir(structure):\n",
    "                os.mkdir(structure)\n",
    "    \n",
    "    for dir,_,_ in os.walk(os.path.join(rDots_home_dir, 'pcm/')):\n",
    "        pcmfiles.extend(glob(os.path.join(dir, pattern)))\n",
    "    \n",
    "    for pcmfile in pcmfiles:\n",
    "        pcm_to_wav(pcmfile, os.path.join(rDots_home_dir, 'wav/'))"
   ]
  },
  {
   "cell_type": "code",
   "execution_count": null,
   "metadata": {
    "collapsed": true
   },
   "outputs": [],
   "source": [
    "def rDots_parseNdx(ndx_dir, part_num):\n",
    "    genders = ['f', 'm']\n",
    "    file_name, spk_ID, sent_ID, trial_type = [], [], [], []\n",
    "    \n",
    "    for gender in genders:\n",
    "        with open(ndx_dir + gender + '_part_0' + str(part_num) + '.ndx', 'r') as ndx:\n",
    "            lines = ndx.readlines()\n",
    "            for line in lines:\n",
    "                [spk_sent, utterance, TC, TW, IC, IW] = line.split(',')\n",
    "                file_name.append(utterance)\n",
    "                \n",
    "                [spk, sent] = spk_sent.split['_']\n",
    "                spk_ID.append(spk)\n",
    "                sent_ID.append(int(sent))\n",
    "                \n",
    "                if TC=='Y': trial_type = 0 '''Target Correct'''\n",
    "                elif TW=='Y': trial_type = 1 '''Target Wrong'''\n",
    "                elif IC=='Y': trial_type = 2 '''Imposter Correct'''\n",
    "                elif IW=='Y': trial_type = 3 '''Imposter Wrong'''\n",
    "    return [file_name, spk_ID, sent_ID, trial_type]"
   ]
  },
  {
   "cell_type": "code",
   "execution_count": null,
   "metadata": {
    "collapsed": true
   },
   "outputs": [],
   "source": [
    "def rDots_parseTrn(trn_dir, part_num):\n",
    "    genders = ['f', 'm']\n",
    "    spk_ID, sent_ID, file1_name, file2_name, file3_name = [], [], [], [], []\n",
    "    \n",
    "    for gender in genders:\n",
    "        with open(trn_dir + gender + '_part_0' + str(part_num) + '.trn', 'r') as trn:\n",
    "            lines = trn.readlines()\n",
    "            for line in lines:\n",
    "                [spk_sent, utter1, utter2, utter3] = line.split(',')\n",
    "                [spk, sent] = spk_sent.split['_']\n",
    "                spk_ID.append(spk)\n",
    "                sent_ID.append(int(sent))\n",
    "                file1_name.append(utter1)\n",
    "                file2_name.append(utter2)\n",
    "                file3_name.append(utter3)\n",
    "    return [spk_ID, sent_ID, file1_name, file2_name, file3_name]"
   ]
  },
  {
   "cell_type": "code",
   "execution_count": 13,
   "metadata": {
    "collapsed": true
   },
   "outputs": [],
   "source": [
    "def rDots_spkID_to_label(spk_IDs):\n",
    "    label = []\n",
    "    mapping = {}\n",
    "    count = 0\n",
    "    for spk_ID in spk_IDs:\n",
    "        if spk_ID not in mapping:\n",
    "            label.append(count)\n",
    "            mapping[spk_ID] = count\n",
    "            count += 1\n",
    "        else:\n",
    "            label.append(mapping[spk_ID])\n",
    "    '''\n",
    "    @return vars\n",
    "    label: list type, contains numerical labels for whole spk_IDs \n",
    "    mapping: dict type, contains mapping between actual speaker & numerical label\n",
    "    '''\n",
    "    return label, mapping"
   ]
  },
  {
   "cell_type": "code",
   "execution_count": null,
   "metadata": {
    "collapsed": true
   },
   "outputs": [],
   "source": [
    "def rDots_get_target_list(infos_dir):\n",
    "    genders = ['f', 'm']\n",
    "    spk_ID = []\n",
    "    \n",
    "    for gender in genders:\n",
    "        with open(infos_dir + gender + '_target.txt', 'r') as infos:\n",
    "            lines = infos.readlines()\n",
    "            for line in lines:\n",
    "                spk_ID.append(line.split(';')[0])\n",
    "    return spk_ID"
   ]
  },
  {
   "cell_type": "code",
   "execution_count": null,
   "metadata": {
    "collapsed": true
   },
   "outputs": [],
   "source": [
    "def rDots_get_imposter_list(infos_dir):\n",
    "    genders = ['f', 'm']\n",
    "    spk_ID = []\n",
    "    \n",
    "    for gender in genders:\n",
    "        with open(infos_dir + gender + '_imposter.txt', 'r') as infos:\n",
    "            lines = infos.readlines()\n",
    "            for line in lines:\n",
    "                spk_ID.append(line.split(';')[0])\n",
    "    return spk_ID"
   ]
  },
  {
   "cell_type": "code",
   "execution_count": 22,
   "metadata": {
    "collapsed": true
   },
   "outputs": [],
   "source": [
    "prepare_RedDots_files()"
   ]
  },
  {
   "cell_type": "code",
   "execution_count": 23,
   "metadata": {},
   "outputs": [
    {
     "name": "stdout",
     "output_type": "stream",
     "text": [
      "VALUES: [    0    -5     1    -6     4    -7     5    -7     2    -2    -6    13\n",
      "   -29    49   -94   197 -2038 -2950 -2214 -2146 -1694 -1551 -1221 -1061\n",
      "  -810  -651  -457  -311  -161   -31    89   198   294   382   462   532\n",
      "   593   649   696   737   773   802   826   846   862   873   880   884\n",
      "   885   884   878   870   861   850   856   829   808   816   729   832\n",
      "   604   896   416   964    24  1224  -446  1900 -1998 10796 32767 28614\n",
      " 28201 25518 24148 22205 20564 18978 17305 15902 14312 13006 11546 10302\n",
      "  8985  7798  6625  5498  4418  3380  2384  1433   521  -351 -1182 -1977\n",
      " -2733 -3453 -4137 -4786]\n"
     ]
    },
    {
     "data": {
      "image/png": "[encoded data removed]",
      "text/plain": [
       "<matplotlib.figure.Figure at 0x7f25f4bf8fd0>"
      ]
     },
     "metadata": {},
     "output_type": "display_data"
    }
   ],
   "source": [
    "import numpy as np\n",
    "import pylab\n",
    "data = np.memmap(rDots_pcm_dir + 'f0001/20150302171020760_f0001_58.pcm', dtype='h', mode='r')\n",
    "print (\"VALUES:\", data[:100])\n",
    "pylab.plot(data)\n",
    "pylab.show()"
   ]
  },
  {
   "cell_type": "code",
   "execution_count": null,
   "metadata": {
    "collapsed": true
   },
   "outputs": [],
   "source": []
  }
 ],
 "metadata": {
  "kernelspec": {
   "display_name": "Python 3",
   "language": "python",
   "name": "python3"
  },
  "language_info": {
   "codemirror_mode": {
    "name": "ipython",
    "version": 3
   },
   "file_extension": ".py",
   "mimetype": "text/x-python",
   "name": "python",
   "nbconvert_exporter": "python",
   "pygments_lexer": "ipython3",
   "version": "3.6.2"
  }
 },
 "nbformat": 4,
 "nbformat_minor": 2
}
