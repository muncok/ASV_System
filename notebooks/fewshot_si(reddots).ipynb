{
 "cells": [
  {
   "cell_type": "code",
   "execution_count": 1,
   "metadata": {},
   "outputs": [
    {
     "name": "stdout",
     "output_type": "stream",
     "text": [
      "Populating the interactive namespace from numpy and matplotlib\n"
     ]
    }
   ],
   "source": [
    "%load_ext autoreload\n",
    "%autoreload 2\n",
    "%pylab inline\n",
    "import pandas as pd\n",
    "import os"
   ]
  },
  {
   "cell_type": "code",
   "execution_count": 2,
   "metadata": {},
   "outputs": [],
   "source": [
    "import sys\n",
    "sys.path.append(\"/home/muncok/DL/projects/sv_system/\")"
   ]
  },
  {
   "cell_type": "code",
   "execution_count": 3,
   "metadata": {},
   "outputs": [],
   "source": [
    "import pprint\n",
    "pp = pprint.PrettyPrinter(indent=4)"
   ]
  },
  {
   "cell_type": "code",
   "execution_count": 4,
   "metadata": {},
   "outputs": [],
   "source": [
    "from honk_sv import train as train\n",
    "from honk_sv import model as mod\n",
    "from honk_sv import dataset as dset\n",
    "from honk_sv import system as svs\n",
    "from honk_sv import dataloader as dloader"
   ]
  },
  {
   "cell_type": "markdown",
   "metadata": {},
   "source": [
    "# Dataframes\n",
    "command: disjoint speaker split"
   ]
  },
  {
   "cell_type": "code",
   "execution_count": 5,
   "metadata": {},
   "outputs": [],
   "source": [
    "dataframe_dir = '/home/muncok/DL/dataset/SV_sets/dataframes/'\n",
    "data_dir = '/home/muncok/DL/dataset/SV_sets/reddots_r2015q4_v1/wav/'\n",
    "data_df = pd.read_pickle('/home/muncok/DL/dataset/SV_sets/dataframes/Reddots_Dataframe.pkl')"
   ]
  },
  {
   "cell_type": "markdown",
   "metadata": {},
   "source": [
    "### Dataset split"
   ]
  },
  {
   "cell_type": "code",
   "execution_count": 6,
   "metadata": {},
   "outputs": [],
   "source": [
    "#TODO: correct split\n",
    "all_spks = list(data_df.spk.unique())\n",
    "all_sents = data_df.sent.unique()\n",
    "uttrs_counts = data_df.spk.value_counts()"
   ]
  },
  {
   "cell_type": "code",
   "execution_count": 7,
   "metadata": {},
   "outputs": [],
   "source": [
    "train_spks = list(uttrs_counts[uttrs_counts > 100].index)"
   ]
  },
  {
   "cell_type": "code",
   "execution_count": 8,
   "metadata": {},
   "outputs": [],
   "source": [
    "test_spks = list(uttrs_counts[uttrs_counts <= 100].index)"
   ]
  },
  {
   "cell_type": "markdown",
   "metadata": {},
   "source": [
    "# SI Train"
   ]
  },
  {
   "cell_type": "code",
   "execution_count": 11,
   "metadata": {},
   "outputs": [],
   "source": [
    "import random \n",
    "\n",
    "si_train = data_df[data_df.spk.isin(train_spks)]\n",
    "si_val = si_train.sample(frac=0.2)\n",
    "si_train = si_train.drop(index=si_val.index)\n",
    "si_test = data_df[data_df.spk.isin(test_spks)]"
   ]
  },
  {
   "cell_type": "code",
   "execution_count": 13,
   "metadata": {},
   "outputs": [
    {
     "name": "stdout",
     "output_type": "stream",
     "text": [
      "../manifests/reddots/fewshot/si_reddots_train_manifest.csv was written\n",
      "../manifests/reddots/fewshot/si_reddots_val_manifest.csv was written\n",
      "../manifests/reddots/fewshot/si_reddots_test_manifest.csv was written\n"
     ]
    }
   ],
   "source": [
    "import csv\n",
    "import random\n",
    "\n",
    "tags = ['train', 'val', 'test']\n",
    "# choose a si split\n",
    "sets = {'train':si_train, 'val':si_val, 'test':si_test}\n",
    "manifest_dir = \"../manifests/reddots/fewshot\"\n",
    "\n",
    "for tag in tags:\n",
    "    samples = []\n",
    "    save_path = os.path.join(manifest_dir,'si_{}_{}_manifest.csv'.format(\"reddots\", tag))\n",
    "    with open(save_path, 'w') as f:\n",
    "        for index, row in sets[tag].iterrows():\n",
    "            file_path = os.path.join(data_dir, row.spk, row.file)\n",
    "            label = all_spks.index(row.spk)\n",
    "            sample = ','.join([file_path, str(label)])\n",
    "            samples.append(sample)\n",
    "        random.shuffle(samples)\n",
    "        writer = csv.writer(f, delimiter='\\n', quoting=csv.QUOTE_NONE)\n",
    "        writer.writerow(samples)\n",
    "        print(\"{} was written\".format(save_path))"
   ]
  },
  {
   "cell_type": "code",
   "execution_count": 14,
   "metadata": {},
   "outputs": [],
   "source": [
    "model = \"SimpleCNN\"\n",
    "dataset = \"reddots\"\n",
    "\n",
    "global_config = dict(model=model, dataset=dataset,\n",
    "                     no_cuda=False,  gpu_no=0,\n",
    "                     n_epochs=100, batch_size=64,\n",
    "                     lr=[0.01], schedule=[np.inf], dev_every=1, seed=0, use_nesterov=False,\n",
    "                     cache_size=32768, momentum=0.9, weight_decay=0.00001,\n",
    "                     num_workers=16, print_step=100,\n",
    "                     splice_length=20\n",
    "                     )\n",
    "\n",
    "builder = train.ConfigBuilder(\n",
    "                dset.SpeechDataset.default_config(dataset),\n",
    "                global_config)\n",
    "parser = builder.build_argparse()\n",
    "si_config = builder.config_from_argparse(parser)\n",
    "si_config['model_class'] = mod.SimpleCNN\n",
    "train.set_seed(si_config)"
   ]
  },
  {
   "cell_type": "code",
   "execution_count": 15,
   "metadata": {},
   "outputs": [],
   "source": [
    "si_config['n_labels'] = len(all_spks)\n",
    "si_config['input_length'] = int(16000*1)\n",
    "manifest_dir = \"../manifests/reddots/fewshot/\"\n",
    "for tag in ['train', 'val', 'test']:\n",
    "    si_config['{}_manifest'.format(tag)]=os.path.join(manifest_dir,'si_{}_{}_manifest.csv'.format(\"reddots\", tag))"
   ]
  },
  {
   "cell_type": "code",
   "execution_count": 16,
   "metadata": {},
   "outputs": [],
   "source": [
    "si_model = si_config['model_class']()"
   ]
  },
  {
   "cell_type": "code",
   "execution_count": 17,
   "metadata": {},
   "outputs": [],
   "source": [
    "from torch.autograd import Variable\n",
    "import torch\n",
    "import torch.nn as nn\n",
    "\n",
    "test_in = Variable(torch.zeros(1,1,101,40), volatile=True)\n",
    "test_out = si_model(test_in)\n",
    "si_model.feat_size = test_out.size(1)\n",
    "si_model.output = nn.Linear(test_out.size(1), si_config[\"n_labels\"])"
   ]
  },
  {
   "cell_type": "code",
   "execution_count": 18,
   "metadata": {},
   "outputs": [
    {
     "name": "stdout",
     "output_type": "stream",
     "text": [
      "model:SimpleCNN, audio_length:1s, n_labels:62\n"
     ]
    }
   ],
   "source": [
    "print(\"model:{}, audio_length:{}s, n_labels:{}\".format(model, si_config['input_length']//16000, si_config[\"n_labels\"]))"
   ]
  },
  {
   "cell_type": "code",
   "execution_count": 31,
   "metadata": {},
   "outputs": [],
   "source": [
    "os.makedirs(\"models/reddots/fewshot\")"
   ]
  },
  {
   "cell_type": "code",
   "execution_count": 19,
   "metadata": {},
   "outputs": [
    {
     "name": "stdout",
     "output_type": "stream",
     "text": [
      "train step #99 accuracy: 0.4375, loss: 2.1804468631744385\n",
      "epoch #0, final dev accuracy: 0.5077052345537758\n",
      "saving best model...\n",
      "train step #199 accuracy: 0.484375, loss: 1.517486572265625\n",
      "train step #299 accuracy: 0.65625, loss: 1.124812364578247\n",
      "epoch #1, final dev accuracy: 0.6130816170861937\n",
      "saving best model...\n",
      "train step #399 accuracy: 0.578125, loss: 1.2333470582962036\n",
      "train step #499 accuracy: 0.828125, loss: 0.8116158246994019\n",
      "epoch #2, final dev accuracy: 0.7160028127383676\n",
      "saving best model...\n",
      "train step #599 accuracy: 0.796875, loss: 0.665187418460846\n",
      "train step #699 accuracy: 0.71875, loss: 0.8083511590957642\n",
      "epoch #3, final dev accuracy: 0.7645344679633866\n",
      "saving best model...\n",
      "train step #799 accuracy: 0.828125, loss: 0.5745956301689148\n",
      "train step #899 accuracy: 0.796875, loss: 0.5898747444152832\n",
      "epoch #4, final dev accuracy: 0.829537328375286\n",
      "saving best model...\n",
      "train step #999 accuracy: 0.84375, loss: 0.46613532304763794\n",
      "epoch #5, final dev accuracy: 0.8304252479023646\n",
      "saving best model...\n",
      "train step #1099 accuracy: 0.84375, loss: 0.527262806892395\n",
      "train step #1199 accuracy: 0.859375, loss: 0.4438742995262146\n",
      "epoch #6, final dev accuracy: 0.8105990179252479\n",
      "train step #1299 accuracy: 0.859375, loss: 0.4160493314266205\n",
      "train step #1399 accuracy: 0.90625, loss: 0.4396022856235504\n",
      "epoch #7, final dev accuracy: 0.8592975305110603\n",
      "saving best model...\n",
      "train step #1499 accuracy: 0.890625, loss: 0.3087620735168457\n",
      "train step #1599 accuracy: 0.921875, loss: 0.28577789664268494\n",
      "epoch #8, final dev accuracy: 0.899969012204424\n",
      "saving best model...\n",
      "train step #1699 accuracy: 0.84375, loss: 0.503024697303772\n",
      "train step #1799 accuracy: 0.875, loss: 0.2681499421596527\n",
      "epoch #9, final dev accuracy: 0.8989082761250953\n",
      "train step #1899 accuracy: 0.890625, loss: 0.36228787899017334\n",
      "train step #1999 accuracy: 0.953125, loss: 0.19197393953800201\n",
      "epoch #10, final dev accuracy: 0.9023050152555301\n",
      "saving best model...\n",
      "train step #2099 accuracy: 0.875, loss: 0.2881734371185303\n",
      "epoch #11, final dev accuracy: 0.8890160183066361\n",
      "train step #2199 accuracy: 0.921875, loss: 0.23375464975833893\n",
      "train step #2299 accuracy: 0.875, loss: 0.2960737943649292\n",
      "epoch #12, final dev accuracy: 0.8417596300533943\n",
      "train step #2399 accuracy: 0.890625, loss: 0.2824896574020386\n",
      "train step #2499 accuracy: 0.953125, loss: 0.348707377910614\n",
      "epoch #13, final dev accuracy: 0.9105406178489702\n",
      "saving best model...\n",
      "train step #2599 accuracy: 0.90625, loss: 0.22849032282829285\n",
      "train step #2699 accuracy: 0.953125, loss: 0.22124530375003815\n",
      "epoch #14, final dev accuracy: 0.910796863081617\n",
      "saving best model...\n",
      "train step #2799 accuracy: 0.96875, loss: 0.1742357611656189\n",
      "train step #2899 accuracy: 1.0, loss: 0.09348422288894653\n",
      "epoch #15, final dev accuracy: 0.8879969965675056\n",
      "train step #2999 accuracy: 0.96875, loss: 0.12526479363441467\n",
      "train step #3099 accuracy: 0.953125, loss: 0.19117023050785065\n",
      "epoch #16, final dev accuracy: 0.92943721395881\n",
      "saving best model...\n",
      "train step #3199 accuracy: 0.96875, loss: 0.17314305901527405\n",
      "epoch #17, final dev accuracy: 0.9009046052631579\n",
      "train step #3299 accuracy: 0.921875, loss: 0.22166401147842407\n",
      "train step #3399 accuracy: 0.921875, loss: 0.24412743747234344\n",
      "epoch #18, final dev accuracy: 0.8529271548436309\n",
      "train step #3499 accuracy: 0.921875, loss: 0.3163676857948303\n",
      "train step #3599 accuracy: 0.96875, loss: 0.07852974534034729\n",
      "epoch #19, final dev accuracy: 0.9380959191456902\n",
      "saving best model...\n",
      "train step #3699 accuracy: 0.953125, loss: 0.1705901175737381\n",
      "train step #3799 accuracy: 0.96875, loss: 0.11148680746555328\n",
      "epoch #20, final dev accuracy: 0.921880959191457\n",
      "train step #3899 accuracy: 0.984375, loss: 0.08897234499454498\n",
      "train step #3999 accuracy: 0.90625, loss: 0.22893568873405457\n",
      "epoch #21, final dev accuracy: 0.9339781178489702\n",
      "train step #4099 accuracy: 0.953125, loss: 0.11900386214256287\n",
      "train step #4199 accuracy: 0.921875, loss: 0.18260912597179413\n",
      "epoch #22, final dev accuracy: 0.9345323226544622\n",
      "train step #4299 accuracy: 0.9375, loss: 0.29675838351249695\n",
      "epoch #23, final dev accuracy: 0.8785695556826849\n",
      "train step #4399 accuracy: 0.984375, loss: 0.10610640048980713\n",
      "train step #4499 accuracy: 0.9375, loss: 0.13244526088237762\n",
      "epoch #24, final dev accuracy: 0.9534646739130435\n",
      "saving best model...\n",
      "train step #4599 accuracy: 0.921875, loss: 0.13827915489673615\n",
      "train step #4699 accuracy: 1.0, loss: 0.09762926399707794\n",
      "epoch #25, final dev accuracy: 0.932702850877193\n",
      "train step #4799 accuracy: 0.96875, loss: 0.10134400427341461\n",
      "train step #4899 accuracy: 0.96875, loss: 0.10455356538295746\n",
      "epoch #26, final dev accuracy: 0.9524039378337147\n",
      "train step #4999 accuracy: 1.0, loss: 0.04448671638965607\n",
      "train step #5099 accuracy: 0.984375, loss: 0.05910775065422058\n",
      "epoch #27, final dev accuracy: 0.9547399408848207\n",
      "saving best model...\n",
      "train step #5199 accuracy: 0.984375, loss: 0.05291907489299774\n",
      "train step #5299 accuracy: 0.953125, loss: 0.11201702058315277\n",
      "epoch #28, final dev accuracy: 0.9477796052631579\n",
      "train step #5399 accuracy: 0.921875, loss: 0.4478471279144287\n",
      "epoch #29, final dev accuracy: 0.946844012204424\n",
      "train step #5499 accuracy: 0.96875, loss: 0.22381362318992615\n",
      "train step #5599 accuracy: 0.9375, loss: 0.34408459067344666\n",
      "epoch #30, final dev accuracy: 0.950538710907704\n",
      "train step #5699 accuracy: 0.984375, loss: 0.06297121942043304\n",
      "train step #5799 accuracy: 0.953125, loss: 0.11380387842655182\n",
      "epoch #31, final dev accuracy: 0.9050641209000763\n",
      "train step #5899 accuracy: 0.921875, loss: 0.17791710793972015\n",
      "train step #5999 accuracy: 0.984375, loss: 0.042006224393844604\n",
      "epoch #32, final dev accuracy: 0.9530832856598017\n",
      "train step #6099 accuracy: 0.96875, loss: 0.09568654000759125\n",
      "train step #6199 accuracy: 0.96875, loss: 0.07904468476772308\n",
      "epoch #33, final dev accuracy: 0.9495196891685735\n",
      "train step #6299 accuracy: 0.96875, loss: 0.05452531576156616\n",
      "train step #6399 accuracy: 0.921875, loss: 0.1753794103860855\n",
      "epoch #34, final dev accuracy: 0.9383104500381387\n",
      "train step #6499 accuracy: 0.953125, loss: 0.12532219290733337\n",
      "epoch #35, final dev accuracy: 0.9611520308924485\n",
      "saving best model...\n",
      "train step #6599 accuracy: 0.984375, loss: 0.11743061244487762\n",
      "train step #6699 accuracy: 0.96875, loss: 0.07674342393875122\n",
      "epoch #36, final dev accuracy: 0.9442517639206712\n",
      "train step #6799 accuracy: 0.953125, loss: 0.2524259388446808\n",
      "train step #6899 accuracy: 0.96875, loss: 0.11078707873821259\n",
      "epoch #37, final dev accuracy: 0.9451039282990084\n",
      "train step #6999 accuracy: 0.984375, loss: 0.0777597725391388\n",
      "train step #7099 accuracy: 0.96875, loss: 0.09785501658916473\n",
      "epoch #38, final dev accuracy: 0.9200514874141876\n",
      "train step #7199 accuracy: 0.984375, loss: 0.04875017702579498\n",
      "train step #7299 accuracy: 0.984375, loss: 0.03932914137840271\n",
      "epoch #39, final dev accuracy: 0.9565217391304348\n",
      "train step #7399 accuracy: 0.9375, loss: 0.18012318015098572\n",
      "train step #7499 accuracy: 0.96875, loss: 0.15311439335346222\n",
      "epoch #40, final dev accuracy: 0.9584346395881006\n",
      "train step #7599 accuracy: 0.96875, loss: 0.07426245510578156\n",
      "epoch #41, final dev accuracy: 0.9519808352402745\n",
      "train step #7699 accuracy: 0.984375, loss: 0.12348448485136032\n",
      "train step #7799 accuracy: 0.984375, loss: 0.050748467445373535\n",
      "epoch #42, final dev accuracy: 0.961491704805492\n",
      "saving best model...\n",
      "train step #7899 accuracy: 0.921875, loss: 0.24368439614772797\n",
      "train step #7999 accuracy: 0.984375, loss: 0.09600624442100525\n",
      "epoch #43, final dev accuracy: 0.9577135774218154\n",
      "train step #8099 accuracy: 1.0, loss: 0.02426731586456299\n",
      "train step #8199 accuracy: 1.0, loss: 0.03292873501777649\n",
      "epoch #44, final dev accuracy: 0.9414509439359268\n",
      "train step #8299 accuracy: 0.96875, loss: 0.1257283091545105\n",
      "train step #8399 accuracy: 0.96875, loss: 0.056446149945259094\n",
      "epoch #45, final dev accuracy: 0.9602164378337147\n",
      "train step #8499 accuracy: 0.953125, loss: 0.10655879974365234\n",
      "train step #8599 accuracy: 0.984375, loss: 0.03747352957725525\n",
      "epoch #46, final dev accuracy: 0.9598350495804729\n",
      "train step #8699 accuracy: 0.984375, loss: 0.05620196461677551\n",
      "epoch #47, final dev accuracy: 0.9584346395881006\n",
      "train step #8799 accuracy: 0.96875, loss: 0.09895920753479004\n",
      "train step #8899 accuracy: 0.96875, loss: 0.1610116809606552\n"
     ]
    },
    {
     "name": "stdout",
     "output_type": "stream",
     "text": [
      "epoch #48, final dev accuracy: 0.9502407513348589\n",
      "train step #8999 accuracy: 0.96875, loss: 0.07365724444389343\n",
      "train step #9099 accuracy: 0.96875, loss: 0.12173281610012054\n",
      "epoch #49, final dev accuracy: 0.9514743039664377\n",
      "train step #9199 accuracy: 0.953125, loss: 0.09218963980674744\n",
      "train step #9299 accuracy: 0.984375, loss: 0.05846339464187622\n",
      "epoch #50, final dev accuracy: 0.9593702326468344\n",
      "train step #9399 accuracy: 1.0, loss: 0.04073411226272583\n",
      "train step #9499 accuracy: 1.0, loss: 0.026075541973114014\n",
      "epoch #51, final dev accuracy: 0.9683268974065599\n",
      "saving best model...\n",
      "train step #9599 accuracy: 0.984375, loss: 0.07098622620105743\n",
      "train step #9699 accuracy: 0.96875, loss: 0.09344206750392914\n",
      "epoch #52, final dev accuracy: 0.9648884439359268\n",
      "train step #9799 accuracy: 0.96875, loss: 0.0686812698841095\n",
      "epoch #53, final dev accuracy: 0.9299020308924485\n",
      "train step #9899 accuracy: 0.96875, loss: 0.08488106727600098\n",
      "train step #9999 accuracy: 0.984375, loss: 0.052019014954566956\n",
      "epoch #54, final dev accuracy: 0.950538710907704\n",
      "train step #10099 accuracy: 1.0, loss: 0.019859760999679565\n",
      "train step #10199 accuracy: 1.0, loss: 0.021960973739624023\n",
      "epoch #55, final dev accuracy: 0.971086003051106\n",
      "saving best model...\n",
      "train step #10299 accuracy: 1.0, loss: 0.01638297736644745\n",
      "train step #10399 accuracy: 1.0, loss: 0.01497611403465271\n",
      "epoch #56, final dev accuracy: 0.9555503909229595\n",
      "train step #10499 accuracy: 0.96875, loss: 0.040446385741233826\n",
      "train step #10599 accuracy: 0.984375, loss: 0.05421702563762665\n",
      "epoch #57, final dev accuracy: 0.9566945556826849\n",
      "train step #10699 accuracy: 1.0, loss: 0.015460222959518433\n",
      "epoch #58, final dev accuracy: 0.9700252669717773\n",
      "train step #10799 accuracy: 1.0, loss: 0.007400080561637878\n",
      "train step #10899 accuracy: 0.984375, loss: 0.03254766762256622\n",
      "epoch #59, final dev accuracy: 0.9675641209000763\n",
      "train step #10999 accuracy: 0.96875, loss: 0.07065103948116302\n",
      "train step #11099 accuracy: 0.953125, loss: 0.14240789413452148\n",
      "epoch #60, final dev accuracy: 0.9618730930587338\n",
      "train step #11199 accuracy: 1.0, loss: 0.02388070523738861\n",
      "train step #11299 accuracy: 1.0, loss: 0.007028728723526001\n",
      "epoch #61, final dev accuracy: 0.962469012204424\n",
      "train step #11399 accuracy: 0.984375, loss: 0.08894193172454834\n",
      "train step #11499 accuracy: 1.0, loss: 0.006536275148391724\n",
      "epoch #62, final dev accuracy: 0.9734637204424104\n",
      "saving best model...\n",
      "train step #11599 accuracy: 1.0, loss: 0.009405761957168579\n",
      "train step #11699 accuracy: 0.953125, loss: 0.18770739436149597\n",
      "epoch #63, final dev accuracy: 0.9704483695652174\n",
      "train step #11799 accuracy: 0.984375, loss: 0.052883535623550415\n",
      "epoch #64, final dev accuracy: 0.9659491800152555\n",
      "train step #11899 accuracy: 0.984375, loss: 0.059870049357414246\n",
      "train step #11999 accuracy: 0.984375, loss: 0.03755931556224823\n",
      "epoch #65, final dev accuracy: 0.9645904843630816\n",
      "train step #12099 accuracy: 0.96875, loss: 0.17186342179775238\n",
      "train step #12199 accuracy: 0.984375, loss: 0.04154445230960846\n",
      "epoch #66, final dev accuracy: 0.9642508104500381\n",
      "train step #12299 accuracy: 0.984375, loss: 0.03510826826095581\n",
      "train step #12399 accuracy: 0.9375, loss: 0.1059679239988327\n",
      "epoch #67, final dev accuracy: 0.9656512204424104\n",
      "train step #12499 accuracy: 0.984375, loss: 0.04481673240661621\n",
      "train step #12599 accuracy: 0.984375, loss: 0.050198182463645935\n",
      "epoch #68, final dev accuracy: 0.9704483695652174\n",
      "train step #12699 accuracy: 0.96875, loss: 0.04952365159988403\n",
      "train step #12799 accuracy: 1.0, loss: 0.011278226971626282\n",
      "epoch #69, final dev accuracy: 0.9676892639206712\n",
      "train step #12899 accuracy: 0.96875, loss: 0.09649741649627686\n",
      "epoch #70, final dev accuracy: 0.9693876334858886\n",
      "train step #12999 accuracy: 0.984375, loss: 0.05852457880973816\n",
      "train step #13099 accuracy: 0.96875, loss: 0.07499033212661743\n",
      "epoch #71, final dev accuracy: 0.963827707856598\n",
      "train step #13199 accuracy: 1.0, loss: 0.005709797143936157\n",
      "train step #13299 accuracy: 0.984375, loss: 0.05173361301422119\n",
      "epoch #72, final dev accuracy: 0.9618313787185354\n",
      "train step #13399 accuracy: 1.0, loss: 0.019373878836631775\n",
      "train step #13499 accuracy: 0.96875, loss: 0.05497246980667114\n",
      "epoch #73, final dev accuracy: 0.963273503051106\n",
      "train step #13599 accuracy: 0.984375, loss: 0.033471375703811646\n",
      "train step #13699 accuracy: 0.984375, loss: 0.0727304071187973\n",
      "epoch #74, final dev accuracy: 0.9703232265446224\n",
      "train step #13799 accuracy: 0.984375, loss: 0.0251857191324234\n",
      "train step #13899 accuracy: 0.984375, loss: 0.023620396852493286\n",
      "epoch #75, final dev accuracy: 0.9622127669717773\n",
      "train step #13999 accuracy: 1.0, loss: 0.026396572589874268\n",
      "epoch #76, final dev accuracy: 0.9670099160945843\n",
      "train step #14099 accuracy: 0.984375, loss: 0.06115545332431793\n",
      "train step #14199 accuracy: 0.984375, loss: 0.0330987423658371\n",
      "epoch #77, final dev accuracy: 0.9650135869565217\n",
      "train step #14299 accuracy: 0.984375, loss: 0.06972774863243103\n",
      "train step #14399 accuracy: 0.984375, loss: 0.021997958421707153\n",
      "epoch #78, final dev accuracy: 0.9666702421815409\n",
      "train step #14499 accuracy: 0.984375, loss: 0.03206701576709747\n",
      "train step #14599 accuracy: 0.984375, loss: 0.07780322432518005\n",
      "epoch #79, final dev accuracy: 0.9684103260869565\n",
      "train step #14699 accuracy: 1.0, loss: 0.0086916983127594\n",
      "train step #14799 accuracy: 1.0, loss: 0.028134092688560486\n",
      "epoch #80, final dev accuracy: 0.9775815217391305\n",
      "saving best model...\n",
      "train step #14899 accuracy: 0.96875, loss: 0.10126158595085144\n",
      "train step #14999 accuracy: 0.984375, loss: 0.02420327067375183\n",
      "epoch #81, final dev accuracy: 0.956015207856598\n",
      "train step #15099 accuracy: 1.0, loss: 0.013346865773200989\n",
      "epoch #82, final dev accuracy: 0.9747389874141876\n",
      "train step #15199 accuracy: 0.96875, loss: 0.08102230727672577\n",
      "train step #15299 accuracy: 1.0, loss: 0.028208613395690918\n",
      "epoch #83, final dev accuracy: 0.9699835526315789\n",
      "train step #15399 accuracy: 0.984375, loss: 0.024841025471687317\n",
      "train step #15499 accuracy: 1.0, loss: 0.00219610333442688\n",
      "epoch #84, final dev accuracy: 0.9485006674294432\n",
      "train step #15599 accuracy: 0.984375, loss: 0.034211620688438416\n",
      "train step #15699 accuracy: 0.984375, loss: 0.03221435844898224\n",
      "epoch #85, final dev accuracy: 0.9716819221967963\n",
      "train step #15799 accuracy: 1.0, loss: 0.014734700322151184\n",
      "train step #15899 accuracy: 1.0, loss: 0.009484052658081055\n",
      "epoch #86, final dev accuracy: 0.9777960526315789\n",
      "saving best model...\n",
      "train step #15999 accuracy: 1.0, loss: 0.027358591556549072\n",
      "train step #16099 accuracy: 0.96875, loss: 0.05567307770252228\n",
      "epoch #87, final dev accuracy: 0.9706629004576659\n",
      "train step #16199 accuracy: 1.0, loss: 0.01764845848083496\n",
      "epoch #88, final dev accuracy: 0.966288853928299\n",
      "train step #16299 accuracy: 0.96875, loss: 0.09000107645988464\n",
      "train step #16399 accuracy: 0.984375, loss: 0.03342530131340027\n",
      "epoch #89, final dev accuracy: 0.9622127669717773\n",
      "train step #16499 accuracy: 0.984375, loss: 0.05000472068786621\n",
      "train step #16599 accuracy: 1.0, loss: 0.030173882842063904\n",
      "epoch #90, final dev accuracy: 0.9747807017543859\n",
      "train step #16699 accuracy: 0.96875, loss: 0.09813810884952545\n",
      "train step #16799 accuracy: 0.984375, loss: 0.09134232997894287\n",
      "epoch #91, final dev accuracy: 0.9717236365369947\n",
      "train step #16899 accuracy: 0.984375, loss: 0.0478159636259079\n",
      "train step #16999 accuracy: 0.984375, loss: 0.08644881844520569\n",
      "epoch #92, final dev accuracy: 0.9750786613272311\n",
      "train step #17099 accuracy: 0.96875, loss: 0.11679951846599579\n",
      "train step #17199 accuracy: 1.0, loss: 0.002314135432243347\n",
      "epoch #93, final dev accuracy: 0.9720633104500381\n",
      "train step #17299 accuracy: 0.984375, loss: 0.026439756155014038\n",
      "epoch #94, final dev accuracy: 0.9765207856598017\n",
      "train step #17399 accuracy: 1.0, loss: 0.014200881123542786\n",
      "train step #17499 accuracy: 1.0, loss: 0.0180206298828125\n",
      "epoch #95, final dev accuracy: 0.9819555682684973\n",
      "saving best model...\n",
      "train step #17599 accuracy: 0.96875, loss: 0.024212703108787537\n",
      "train step #17699 accuracy: 1.0, loss: 0.011495545506477356\n",
      "epoch #96, final dev accuracy: 0.9690896739130435\n",
      "train step #17799 accuracy: 1.0, loss: 0.009901583194732666\n",
      "train step #17899 accuracy: 0.984375, loss: 0.022488802671432495\n",
      "epoch #97, final dev accuracy: 0.9687082856598017\n"
     ]
    },
    {
     "name": "stdout",
     "output_type": "stream",
     "text": [
      "train step #17999 accuracy: 0.9375, loss: 0.0877956748008728\n",
      "train step #18099 accuracy: 1.0, loss: 0.013708144426345825\n",
      "epoch #98, final dev accuracy: 0.978898503051106\n",
      "train step #18199 accuracy: 0.96875, loss: 0.10469090938568115\n",
      "train step #18299 accuracy: 1.0, loss: 0.016465872526168823\n",
      "epoch #99, final dev accuracy: 0.983016304347826\n",
      "saving best model...\n",
      "final test accuracy: 0.0\n"
     ]
    }
   ],
   "source": [
    "# si_model.load(\"models/reddots/si_reddots_frames_res8.pt\")\n",
    "si_config['n_epochs'] = 100\n",
    "si_config['output_file'] = \"../models/reddots/fewshot/si_reddots_frames_fewshot.pt\"\n",
    "train.train(si_config, model=si_model)"
   ]
  },
  {
   "cell_type": "markdown",
   "metadata": {},
   "source": [
    "## SV Test"
   ]
  },
  {
   "cell_type": "code",
   "execution_count": null,
   "metadata": {},
   "outputs": [],
   "source": [
    "enroll_spks = test_spks "
   ]
  },
  {
   "cell_type": "code",
   "execution_count": null,
   "metadata": {},
   "outputs": [],
   "source": []
  }
 ],
 "metadata": {
  "kernelspec": {
   "display_name": "Pytorch",
   "language": "python",
   "name": "pytorch"
  },
  "language_info": {
   "codemirror_mode": {
    "name": "ipython",
    "version": 3
   },
   "file_extension": ".py",
   "mimetype": "text/x-python",
   "name": "python",
   "nbconvert_exporter": "python",
   "pygments_lexer": "ipython3",
   "version": "3.6.2"
  }
 },
 "nbformat": 4,
 "nbformat_minor": 2
}
