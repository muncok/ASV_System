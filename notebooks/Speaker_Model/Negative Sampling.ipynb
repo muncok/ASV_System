{
 "cells": [
  {
   "cell_type": "markdown",
   "metadata": {},
   "source": [
    "## Utterance Waves"
   ]
  },
  {
   "cell_type": "code",
   "execution_count": 134,
   "metadata": {},
   "outputs": [
    {
     "name": "stdout",
     "output_type": "stream",
     "text": [
      "The autoreload extension is already loaded. To reload it, use:\n",
      "  %reload_ext autoreload\n",
      "Populating the interactive namespace from numpy and matplotlib\n"
     ]
    },
    {
     "name": "stderr",
     "output_type": "stream",
     "text": [
      "/home/muncok/anaconda3/envs/pytorch/lib/python3.6/site-packages/IPython/core/magics/pylab.py:160: UserWarning: pylab import has clobbered these variables: ['plt']\n",
      "`%matplotlib` prevents importing * from pylab and numpy\n",
      "  \"\\n`%matplotlib` prevents importing * from pylab and numpy\"\n"
     ]
    }
   ],
   "source": [
    "%load_ext autoreload\n",
    "%autoreload 2\n",
    "%pylab inline\n",
    "import os\n",
    "os.sys.path.append('../')\n",
    "from data_loader import SpectrogramDatasetPair, AudioDataLoaderPair"
   ]
  },
  {
   "cell_type": "code",
   "execution_count": null,
   "metadata": {},
   "outputs": [],
   "source": [
    "import numpy as np\n",
    "import random\n",
    "\n",
    "speaker_wavs = {}\n",
    "with open(\"../../../dataset/Identification_split.txt\", 'r') as f:\n",
    "    lines = f.readlines()\n",
    "    for line in lines:\n",
    "        set_id, file_path = line.split()\n",
    "        speaker, file_name = file_path.split('/')\n",
    "        if speaker not in speaker_wavs:\n",
    "            speaker_wavs[speaker] = [file_path]\n",
    "        else:\n",
    "            speaker_wavs[speaker].append(file_path)"
   ]
  },
  {
   "cell_type": "markdown",
   "metadata": {},
   "source": [
    "### Scoring & Ranking Negative Pairs\n",
    "\n",
    "Choose the resonable number of speaker\n",
    "\n",
    "Fully scoring for Negative Pairs\n",
    "\n",
    "50% Random Negative Pair + 50% hard Negative Pair from top 10% pair"
   ]
  },
  {
   "cell_type": "code",
   "execution_count": null,
   "metadata": {},
   "outputs": [],
   "source": [
    "all_speakers = list(speaker_wavs.keys())\n",
    "enroll_spk_size = 5\n",
    "test_spk_size = 10\n",
    "dev_uttrs_rate = 0.6\n",
    "enroll_uttrs_rate = 0.8\n",
    "test_uttrs_rate = 0.2"
   ]
  },
  {
   "cell_type": "code",
   "execution_count": null,
   "metadata": {},
   "outputs": [],
   "source": [
    "E_speakers = [spk for spk in speaker_wavs.keys() if spk[0] == 'E']\n",
    "# random_speakers = np.random.choice(E_speakers, enroll_spk_size + test_spk_size, replace=False)\n",
    "enrolled_speakers = E_speakers[:enroll_spk_size]\n",
    "test_speakers = E_speakers[enroll_spk_size:enroll_spk_size+test_spk_size]\n",
    "\n",
    "speaker_id = {}\n",
    "n_classes = enroll_spk_size\n",
    "for i, spk in enumerate(enrolled_speakers):\n",
    "    speaker_id[spk] = i"
   ]
  },
  {
   "cell_type": "code",
   "execution_count": null,
   "metadata": {},
   "outputs": [],
   "source": [
    "enroll_X, enroll_y = [], []\n",
    "test_X, test_y = [], []\n",
    "\n",
    "for spk in enrolled_speakers:\n",
    "    wavs = speaker_wavs[spk]\n",
    "    video_names = []\n",
    "    for wav_path in wavs:\n",
    "        video_names.append(wav_path.split('/')[1].split('_000')[0])\n",
    "    video_names = set(video_names)\n",
    "    total_video = len(video_names)\n",
    "    enroll_set = random.choices(list(video_names), k=int(total_video*enroll_uttrs_rate))\n",
    "    test_set = list(video_names - set(enroll_set))\n",
    "    for wav_path in wavs:\n",
    "        video_name = wav_path.split('/')[1].split('_000')[0]\n",
    "        if video_name in enroll_set:\n",
    "            enroll_X.append(wav_path)\n",
    "            enroll_y.append(speaker_id[spk])\n",
    "        else:\n",
    "            test_X.append(wav_path)\n",
    "            test_y.append(speaker_id[spk])\n",
    "enroll_X = np.array(enroll_X)\n",
    "enroll_y = np.array(enroll_y)"
   ]
  },
  {
   "cell_type": "code",
   "execution_count": null,
   "metadata": {},
   "outputs": [],
   "source": [
    "import config\n",
    "audio_conf = config.audio_conf"
   ]
  },
  {
   "cell_type": "code",
   "execution_count": null,
   "metadata": {},
   "outputs": [],
   "source": [
    "import itertools \n",
    "speaker_pairs = itertools.combinations(enrolled_speakers,2)\n",
    "wav_pairs = []\n",
    "for a, b in speaker_pairs:\n",
    "    a_wav = enroll_X[enroll_y == speaker_id[a]]\n",
    "    b_wav = enroll_X[enroll_y == speaker_id[b]]\n",
    "    wav_pairs += list(itertools.product(a_wav, b_wav))"
   ]
  },
  {
   "cell_type": "code",
   "execution_count": null,
   "metadata": {},
   "outputs": [],
   "source": [
    "base_dir = '/home/muncok/DL/dataset/voxceleb/'\n",
    "with open('negative_sampling_manifest.csv', 'w') as f:\n",
    "    for wav1, wav2 in wav_pairs:\n",
    "        line = ','.join([base_dir+wav1, base_dir+wav2, '0'])\n",
    "        f.write(line)\n",
    "        f.write('\\n')"
   ]
  },
  {
   "cell_type": "code",
   "execution_count": null,
   "metadata": {},
   "outputs": [],
   "source": [
    "sample_rate = 16000\n",
    "window_size = 0.025\n",
    "window_stride = 0.01\n",
    "window = 'hamming'\n",
    "noise_dir = None\n",
    "noise_prob = 0.4\n",
    "noise_min = 0.0\n",
    "noise_max = 0.5\n",
    "vox_dir = \"/home/ideal_kar/Dataset/voxceleb/\"\n",
    "split_file = '../../../dataset/voxceleb/Identification_split.txt'\n",
    "audio_conf = dict(sample_rate=sample_rate,                                                                                                                                                            \n",
    "                       window_size=window_size,                                                                                                                                                            \n",
    "                       window_stride=window_stride,                                                                                                                                                        \n",
    "                       window=window,                                                                                                                                                                      \n",
    "                       noise_dir=noise_dir,                                                                                                                                                                \n",
    "                       noise_prob=noise_prob,                                                                                                                                                              \n",
    "                       noise_levels=(noise_min, noise_max))   \n",
    "\n",
    "train_dataset = SpectrogramDatasetPair(audio_conf=audio_conf, manifest_filepath='negative_sampling_manifest.csv',\n",
    "                                                   labels=None, normalize=True, augment=False)\n",
    "train_loader = AudioDataLoaderPair(train_dataset, batch_size=32, num_workers=16,\n",
    "                                    shuffle=False)"
   ]
  },
  {
   "cell_type": "code",
   "execution_count": null,
   "metadata": {},
   "outputs": [],
   "source": [
    "from model import siameseNet, voxNet\n",
    "from train_veri import load_pretrained_model, to_np\n",
    "import torch\n",
    "model = siameseNet(256)\n",
    "model = load_pretrained_model(model, \"../saved_models/iden/model_best_TestPOI.pth.tar\")\n",
    "model.cuda()\n",
    "model.eval()"
   ]
  },
  {
   "cell_type": "code",
   "execution_count": null,
   "metadata": {},
   "outputs": [],
   "source": [
    "from torch.autograd import Variable\n",
    "import torch.nn.functional as F\n",
    "train_dists = np.empty(0)\n",
    "label_list = np.empty(0)\n",
    "for i, ((input0, input1), labels) in enumerate(train_loader):\n",
    "    input0,input1,labels=  Variable(input0.cuda(), requires_grad=False), \\\n",
    "                           Variable(input1.cuda(), requires_grad=False), \\\n",
    "                           Variable(labels.cuda(), requires_grad=False)\n",
    "    output0, output1 = model(input0, input1, 'fc8')\n",
    "    torch.cuda.synchronize()\n",
    "\n",
    "    train_dist = F.pairwise_distance(output0, output1)\n",
    "    train_dists = np.append(train_dists, to_np(train_dist))\n",
    "    label_list = np.append(label_list, to_np(labels))\n",
    "    del output0, output1, train_dist"
   ]
  },
  {
   "cell_type": "markdown",
   "metadata": {},
   "source": [
    "### Make Train Verification Manifest"
   ]
  },
  {
   "cell_type": "code",
   "execution_count": null,
   "metadata": {},
   "outputs": [],
   "source": [
    "AllNegPairs = train_dataset.ids.copy()\n",
    "sorted_idx = np.argsort(train_dists)"
   ]
  },
  {
   "cell_type": "code",
   "execution_count": null,
   "metadata": {},
   "outputs": [],
   "source": [
    "import math\n",
    "hard_percent = 0.1\n",
    "hard_negSamples = AllNegPairs[:math.ceil(len(sorted_idx) * hard_percent)]\n",
    "normal_negSamples = AllNegPairs[math.ceil(len(sorted_idx) * hard_percent):]"
   ]
  },
  {
   "cell_type": "code",
   "execution_count": null,
   "metadata": {},
   "outputs": [],
   "source": [
    "posSamples = []\n",
    "for spk in enrolled_speakers:\n",
    "    wavs = enroll_X[enroll_y == speaker_id[spk]]\n",
    "    posSamples += list(itertools.combinations(wavs, 2))"
   ]
  },
  {
   "cell_type": "code",
   "execution_count": null,
   "metadata": {},
   "outputs": [],
   "source": [
    "import random\n",
    "posSize = len(posSamples)\n",
    "negSamples = random.choices(hard_negSamples, k=int(posSize/2)) + random.choices(normal_negSamples, k=int(posSize/2))"
   ]
  },
  {
   "cell_type": "code",
   "execution_count": null,
   "metadata": {},
   "outputs": [],
   "source": [
    "base_dir = '/home/muncok/DL/dataset/voxceleb/'\n",
    "with open('voxc_train_very_manifest.csv', 'w') as f:\n",
    "    for wav1, wav2 in posSamples:\n",
    "        line = ','.join([base_dir+wav1, base_dir+wav2, '1'])\n",
    "        f.write(line)\n",
    "        f.write('\\n')\n",
    "    for negPair in negSamples:\n",
    "        line = ','.join(negPair)\n",
    "        f.write(line)\n",
    "        f.write('\\n')"
   ]
  },
  {
   "cell_type": "markdown",
   "metadata": {},
   "source": [
    "### Make Test Verification Manifest"
   ]
  },
  {
   "cell_type": "code",
   "execution_count": null,
   "metadata": {},
   "outputs": [],
   "source": [
    "speaker_pairs = itertools.combinations(enrolled_speakers,2)\n",
    "neg_wav_pairs = []\n",
    "test_X = np.array(test_X)\n",
    "test_y = np.array(test_y)\n",
    "for a, b in speaker_pairs:\n",
    "    a_wav = test_X[test_y == speaker_id[a]]\n",
    "    b_wav = test_X[test_y == speaker_id[b]]\n",
    "    neg_wav_pairs += list(itertools.product(a_wav, b_wav))\n",
    "    \n",
    "pos_wav_pairs = []\n",
    "for spk_id i n speaker_id.values():\n",
    "    wavs = test_X[test_y == spk_id]\n",
    "    pos_wav_pairs += list(itertools.combinations(wavs, 2))"
   ]
  },
  {
   "cell_type": "code",
   "execution_count": null,
   "metadata": {},
   "outputs": [],
   "source": [
    "test_posSamples = random.choices(pos_wav_pairs, k=posSize)\n",
    "test_negSamples = random.choices(neg_wav_pairs, k=posSize)"
   ]
  },
  {
   "cell_type": "code",
   "execution_count": null,
   "metadata": {},
   "outputs": [],
   "source": [
    "base_dir = '/home/muncok/DL/dataset/voxceleb/'\n",
    "with open('voxc_test_very_manifest.csv', 'w') as f:\n",
    "    for wav1, wav2 in test_posSamples:\n",
    "        line = ','.join([base_dir+wav1, base_dir+wav2, '1'])\n",
    "        f.write(line)\n",
    "        f.write('\\n')\n",
    "    for  wav1, wav2 in test_negSamples:\n",
    "        line = ','.join([base_dir+wav1, base_dir+wav2, '0'])\n",
    "        f.write(line)\n",
    "        f.write('\\n')"
   ]
  },
  {
   "cell_type": "code",
   "execution_count": null,
   "metadata": {},
   "outputs": [],
   "source": [
    "len(posSamples)"
   ]
  },
  {
   "cell_type": "code",
   "execution_count": null,
   "metadata": {},
   "outputs": [],
   "source": [
    "len(negSamples)"
   ]
  },
  {
   "cell_type": "markdown",
   "metadata": {},
   "source": [
    "### Speech_Command Negative Sampling"
   ]
  },
  {
   "cell_type": "code",
   "execution_count": 107,
   "metadata": {},
   "outputs": [],
   "source": [
    "from sklearn.metrics import roc_curve, auc\n",
    "def roc_auc_eer(dists, labels):\n",
    "    \"\"\"\n",
    "        dists: 1D-Array, [samples]\n",
    "        labels: 1D-Array, [samples]\n",
    "    \"\"\"\n",
    "    fpr, tpr, thres = roc_curve(labels, dists, pos_label=1)\n",
    "    roc_auc = auc(fpr, tpr)\n",
    "    fnr = 1 - tpr\n",
    "    eer = fpr[np.nanargmin(np.absolute(fnr - fpr))]\n",
    "    roc_bundle = {'fpr':fpr, 'tpr':tpr, 'thres':thres}\n",
    "    np.save(open('roc_data.npy', 'wb'), roc_bundle)\n",
    "\n",
    "    return roc_auc, eer"
   ]
  },
  {
   "cell_type": "code",
   "execution_count": 171,
   "metadata": {},
   "outputs": [],
   "source": [
    "sample_rate = 16000\n",
    "window_size = 0.025\n",
    "window_stride = 0.01\n",
    "window = 'hamming'\n",
    "noise_dir = None\n",
    "noise_prob = 0.4\n",
    "noise_min = 0.0\n",
    "noise_max = 0.5\n",
    "batch_size = 16\n",
    "audio_conf = dict(sample_rate=sample_rate,                                                                                                                                                            \n",
    "                       window_size=window_size,                                                                                                                                                            \n",
    "                       window_stride=window_stride,                                                                                                                                                        \n",
    "                       window=window,                                                                                                                                                                      \n",
    "                       noise_dir=noise_dir,                                                                                                                                                                \n",
    "                       noise_prob=noise_prob,                                                                                                                                                              \n",
    "                       noise_levels=(noise_min, noise_max))   \n",
    "\n",
    "pos_dataset = SpectrogramDatasetPair(audio_conf=audio_conf, \n",
    "                                       manifest_filepath='../data/sv_reddot_pospair_manifest.csv',\n",
    "                                       labels=None, normalize=True, augment=False)\n",
    "pos_loader = AudioDataLoaderPair(pos_dataset, batch_size=batch_size, num_workers=16,\n",
    "                                    shuffle=False)\n",
    "\n",
    "neg_dataset = SpectrogramDatasetPair(audio_conf=audio_conf, \n",
    "                                       manifest_filepath='../data/sv_reddot_negpair_manifest.csv',\n",
    "                                       labels=None, normalize=True, augment=False)\n",
    "neg_loader = AudioDataLoaderPair(neg_dataset, batch_size=batch_size, num_workers=16,\n",
    "                                    shuffle=False)"
   ]
  },
  {
   "cell_type": "code",
   "execution_count": 172,
   "metadata": {},
   "outputs": [
    {
     "data": {
      "text/plain": [
       "mVoxNet (\n",
       "  (conv1): Conv2d(1, 32, kernel_size=(7, 7), stride=(2, 2), padding=(1, 1))\n",
       "  (conv1_bn): BatchNorm2d(32, eps=1e-05, momentum=0.1, affine=True)\n",
       "  (conv2): Conv2d(32, 64, kernel_size=(5, 5), stride=(2, 2), padding=(1, 1))\n",
       "  (conv2_bn): BatchNorm2d(64, eps=1e-05, momentum=0.1, affine=True)\n",
       "  (conv3): Conv2d(64, 64, kernel_size=(3, 3), stride=(1, 1), padding=(1, 1))\n",
       "  (conv3_bn): BatchNorm2d(64, eps=1e-05, momentum=0.1, affine=True)\n",
       "  (conv4): Conv2d(64, 128, kernel_size=(3, 3), stride=(1, 1), padding=(1, 1))\n",
       "  (conv4_bn): BatchNorm2d(128, eps=1e-05, momentum=0.1, affine=True)\n",
       "  (conv5): Conv2d(128, 128, kernel_size=(3, 3), stride=(1, 1), padding=(1, 1))\n",
       "  (conv5_bn): BatchNorm2d(128, eps=1e-05, momentum=0.1, affine=True)\n",
       "  (fc6): Conv2d(128, 512, kernel_size=[9, 1], stride=(1, 1))\n",
       "  (fc6_bn): BatchNorm2d(512, eps=1e-05, momentum=0.1, affine=True)\n",
       "  (fc7): Linear (512 -> 256)\n",
       "  (fc7_bn): BatchNorm2d(256, eps=1e-05, momentum=0.1, affine=True)\n",
       "  (fc8): Linear (256 -> 40)\n",
       ")"
      ]
     },
     "execution_count": 172,
     "metadata": {},
     "output_type": "execute_result"
    }
   ],
   "source": [
    "from torch.autograd import Variable\n",
    "from model import siameseNet, mVoxNet, voxNet\n",
    "import torch.nn.functional as F\n",
    "from train_veri import load_pretrained_model\n",
    "import torch\n",
    "# model = voxNet(190)\n",
    "# model.load_state_dict(torch.load('../models/model_best_300length.pth.tar')['state_dict'])\n",
    "model = mVoxNet(40)\n",
    "model.load_state_dict(torch.load('../models/model_iden_okgoogle.pth.tar')['state_dict'])\n",
    "# model = load_pretrained_model(model, \"../models/model_iden_pregoogle.pth.tar\")\n",
    "\n",
    "model.cuda()\n",
    "model.eval()"
   ]
  },
  {
   "cell_type": "code",
   "execution_count": 173,
   "metadata": {},
   "outputs": [],
   "source": [
    "pos_scores = np.zeros([pos_dataset.size])\n",
    "neg_scores = np.zeros([neg_dataset.size])\n",
    "for j, ((input0, input1), labels) in enumerate(pos_loader):\n",
    "    input0,input1,labels= Variable(input0.cuda(), requires_grad=False), \\\n",
    "                           Variable(input1.cuda(), requires_grad=False), \\\n",
    "                           Variable(labels.cuda(), requires_grad=False)\n",
    "    output0, output1 = model(input0, output_l='fc7'), model(input1, output_l='fc7')\n",
    "    dists = F.cosine_similarity(output0, output1)\n",
    "    del output0, output1\n",
    "    pos_scores[j*batch_size: (j+1)*batch_size] = dists.cpu().data.numpy() \n",
    "    \n",
    "for j, ((input0, input1), labels) in enumerate(neg_loader):\n",
    "    input0,input1,labels= Variable(input0.cuda(), requires_grad=False), \\\n",
    "                           Variable(input1.cuda(), requires_grad=False), \\\n",
    "                           Variable(labels.cuda(), requires_grad=False)\n",
    "    output0, output1 = model(input0, output_l='fc7'), model(input1, output_l='fc7')\n",
    "    dists = F.cosine_similarity(output0, output1)\n",
    "    del output0, output1\n",
    "    neg_scores[j*batch_size: (j+1)*batch_size] = dists.cpu().data.numpy() "
   ]
  },
  {
   "cell_type": "code",
   "execution_count": 174,
   "metadata": {},
   "outputs": [
    {
     "data": {
      "text/plain": [
       "(0.99345124716553279, 0.03619047619047619)"
      ]
     },
     "execution_count": 174,
     "metadata": {},
     "output_type": "execute_result"
    }
   ],
   "source": [
    "dists = np.concatenate((pos_scores, neg_scores), 0)\n",
    "labels = np.concatenate((np.ones_like(pos_scores), np.zeros_like(neg_scores)), 0)\n",
    "roc_auc_eer(dists, labels)"
   ]
  },
  {
   "cell_type": "code",
   "execution_count": 175,
   "metadata": {
    "scrolled": true
   },
   "outputs": [
    {
     "data": {
      "text/plain": [
       "(array([  2.,   0.,   4.,  13.,  18.,  31.,  56.,  73.,  80.,  38.]),\n",
       " array([ 0.30476415,  0.37428776,  0.44381137,  0.51333498,  0.58285859,\n",
       "         0.65238219,  0.7219058 ,  0.79142941,  0.86095302,  0.93047663,\n",
       "         1.00000024]),\n",
       " <a list of 10 Patch objects>)"
      ]
     },
     "execution_count": 175,
     "metadata": {},
     "output_type": "execute_result"
    },
    {
     "data": {
      "image/png": "[encoded data removed]",
      "text/plain": [
       "<matplotlib.figure.Figure at 0x7f204bcc8c88>"
      ]
     },
     "metadata": {},
     "output_type": "display_data"
    }
   ],
   "source": [
    "# no finetune\n",
    "plt.xlim([0.0, 1.0])\n",
    "plt.hist(pos_scores)"
   ]
  },
  {
   "cell_type": "code",
   "execution_count": 176,
   "metadata": {},
   "outputs": [
    {
     "data": {
      "text/plain": [
       "(array([ 54.,  95.,  90.,  90.,  68.,  50.,  32.,  30.,  10.,   6.]),\n",
       " array([ 0.02942065,  0.0968418 ,  0.16426295,  0.23168411,  0.29910526,\n",
       "         0.36652641,  0.43394757,  0.50136872,  0.56878987,  0.63621102,\n",
       "         0.70363218]),\n",
       " <a list of 10 Patch objects>)"
      ]
     },
     "execution_count": 176,
     "metadata": {},
     "output_type": "execute_result"
    },
    {
     "data": {
      "image/png": "[encoded data removed]",
      "text/plain": [
       "<matplotlib.figure.Figure at 0x7f204b528710>"
      ]
     },
     "metadata": {},
     "output_type": "display_data"
    }
   ],
   "source": [
    "# finetune\n",
    "plt.xlim([0.0, 1.0])\n",
    "plt.hist(neg_scores, color='r')"
   ]
  },
  {
   "cell_type": "code",
   "execution_count": 69,
   "metadata": {},
   "outputs": [],
   "source": [
    "hard_neg_idx = np.argwhere(scores > 0.45)\n",
    "with open('../data/sv_command_negpair_manifest.csv', 'r') as f:\n",
    "    lines = f.read().splitlines()"
   ]
  },
  {
   "cell_type": "code",
   "execution_count": 70,
   "metadata": {},
   "outputs": [],
   "source": [
    "hard_neg_samples = np.array(lines)[hard_neg_idx].squeeze()"
   ]
  },
  {
   "cell_type": "code",
   "execution_count": 74,
   "metadata": {},
   "outputs": [],
   "source": [
    "np.save(open(\"sv_command_hardneg_list.npy\", 'wb'), hard_neg_samples)"
   ]
  },
  {
   "cell_type": "code",
   "execution_count": 72,
   "metadata": {},
   "outputs": [],
   "source": [
    "import csv\n",
    "with open('../data/sv_command_hardneg_manifest.csv', 'w') as f:\n",
    "    writer = csv.writer(f, delimiter='\\n', quoting=csv.QUOTE_NONE)\n",
    "    writer.writerow(hard_neg_samples)"
   ]
  },
  {
   "cell_type": "code",
   "execution_count": 17,
   "metadata": {},
   "outputs": [
    {
     "data": {
      "text/plain": [
       "(array([   85.,   482.,  1092.,  1229.,   983.,   629.,   291.,   120.,\n",
       "           26.,    13.]),\n",
       " array([ 0.09451298,  0.15526532,  0.21601766,  0.27677   ,  0.33752234,\n",
       "         0.39827468,  0.45902702,  0.51977936,  0.5805317 ,  0.64128404,\n",
       "         0.70203638]),\n",
       " <a list of 10 Patch objects>)"
      ]
     },
     "execution_count": 17,
     "metadata": {},
     "output_type": "execute_result"
    },
    {
     "data": {
      "image/png": "[encoded data removed]",
      "text/plain": [
       "<matplotlib.figure.Figure at 0x7f0cc7e9aba8>"
      ]
     },
     "metadata": {},
     "output_type": "display_data"
    }
   ],
   "source": [
    "# spkears unseen during SI training\n",
    "# Neg sampling\n",
    "plt.hist(scores)"
   ]
  },
  {
   "cell_type": "code",
   "execution_count": 23,
   "metadata": {},
   "outputs": [
    {
     "data": {
      "text/plain": [
       "(array([   14.,    69.,   352.,  1192.,  3404.,  5829.,  4024.,  1168.,\n",
       "          315.,    13.]),\n",
       " array([ 0.198135  ,  0.27584045,  0.3535459 ,  0.43125135,  0.5089568 ,\n",
       "         0.58666226,  0.66436771,  0.74207316,  0.81977861,  0.89748406,\n",
       "         0.97518951]),\n",
       " <a list of 10 Patch objects>)"
      ]
     },
     "execution_count": 23,
     "metadata": {},
     "output_type": "execute_result"
    },
    {
     "data": {
      "image/png": "[encoded data removed]",
      "text/plain": [
       "<matplotlib.figure.Figure at 0x7f0cc724c9e8>"
      ]
     },
     "metadata": {},
     "output_type": "display_data"
    }
   ],
   "source": [
    "# spkears seen during SI training\n",
    "# Pos sampling\n",
    "plt.hist(scores,color='r')"
   ]
  },
  {
   "cell_type": "code",
   "execution_count": null,
   "metadata": {},
   "outputs": [],
   "source": []
  }
 ],
 "metadata": {
  "kernelspec": {
   "display_name": "Pytorch",
   "language": "python",
   "name": "pytorch"
  },
  "language_info": {
   "codemirror_mode": {
    "name": "ipython",
    "version": 3
   },
   "file_extension": ".py",
   "mimetype": "text/x-python",
   "name": "python",
   "nbconvert_exporter": "python",
   "pygments_lexer": "ipython3",
   "version": "3.6.2"
  }
 },
 "nbformat": 4,
 "nbformat_minor": 2
}
