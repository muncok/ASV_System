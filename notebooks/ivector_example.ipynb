{
 "cells": [
  {
   "cell_type": "markdown",
   "metadata": {},
   "source": [
    "### Library Requirements"
   ]
  },
  {
   "cell_type": "code",
   "execution_count": 19,
   "metadata": {
    "collapsed": true
   },
   "outputs": [],
   "source": [
    "import numpy as np\n",
    "import mkl\n",
    "mkl.get_max_threads()\n",
    "import bob.learn.em\n",
    "import os\n",
    "import speechpy\n",
    "import torchaudio\n",
    "import scipy\n",
    "import torch\n",
    "import time"
   ]
  },
  {
   "cell_type": "markdown",
   "metadata": {},
   "source": [
    "### Audio Pre-processing Functions"
   ]
  },
  {
   "cell_type": "code",
   "execution_count": 2,
   "metadata": {
    "collapsed": true
   },
   "outputs": [],
   "source": [
    "def load_audio(path, norm=False):\n",
    "    sound, _ = torchaudio.load(path, normalization=norm)\n",
    "    sound = sound.numpy()\n",
    "    if len(sound.shape) > 1:\n",
    "        if sound.shape[1] == 1:\n",
    "            sound = sound.squeeze()\n",
    "        else:\n",
    "            sound = sound.mean(axis=1)  # multiple channels, average\n",
    "    return sound"
   ]
  },
  {
   "cell_type": "code",
   "execution_count": 3,
   "metadata": {
    "collapsed": true
   },
   "outputs": [],
   "source": [
    "def vec2frames(vec, Nw, Ns, direction='col', window='hamming', padding=False):\n",
    "    L = len(vec)\n",
    "    M = int(np.floor((L-Nw)/Ns + 1))\n",
    "\n",
    "    E = (L - ((M-1) * Ns + Nw))\n",
    "    if padding:\n",
    "        if E > 0:\n",
    "            P = Nw - E\n",
    "            vec.append(np.zeros(P))\n",
    "            M += 1\n",
    "\n",
    "    if direction == 'col':\n",
    "        indf = np.multiply(range(M), Ns)\n",
    "        indf = np.expand_dims(indf, axis = 0)\n",
    "        indf = np.repeat(indf, Nw, axis = 0)\n",
    "\n",
    "        inds = np.transpose(np.arange(0, Nw))\n",
    "        inds = np.expand_dims(inds, axis = 1)\n",
    "        inds = np.repeat(inds, M, axis = 1)\n",
    "\n",
    "        indices = np.transpose(np.add(indf, inds))\n",
    "\n",
    "    frames = vec[indices]\n",
    "\n",
    "    if window == 'hamming':\n",
    "        window = np.hamming(Nw)\n",
    "        frames = np.transpose(frames * window)\n",
    "\n",
    "    return frames"
   ]
  },
  {
   "cell_type": "code",
   "execution_count": 4,
   "metadata": {
    "collapsed": true
   },
   "outputs": [],
   "source": [
    "def parse_audio_mfe(audio_path, frame_len):\n",
    "    \n",
    "    y = load_audio(audio_path, True)\n",
    "    \n",
    "    signal = y.squeeze()\n",
    "    \n",
    "    mfe, _ = speechpy.mfe(signal, sampling_frequency=16000, frame_length=0.020, frame_stride=0.01,\n",
    "         num_filters=40, fft_length=512, low_frequency=0, high_frequency=None)\n",
    "    \n",
    "    mfe = torch.FloatTensor(mfe)\n",
    "    \n",
    "    output_frame = torch.zeros(1, frame_len, 40)\n",
    "    seq_length = mfe.size(0)\n",
    "    \n",
    "    try:\n",
    "        start = np.random.randint(0, seq_length-frame_len)\n",
    "        output_frame[0].copy_(spect.narrow(0, start, frame_len))\n",
    "    except:\n",
    "        output_frame[0].narrow(0, 0, seq_length).copy_(mfe)\n",
    "    \n",
    "    return output_frame"
   ]
  },
  {
   "cell_type": "markdown",
   "metadata": {},
   "source": [
    "### MFC Feature Vector Extraction"
   ]
  },
  {
   "cell_type": "code",
   "execution_count": 5,
   "metadata": {},
   "outputs": [],
   "source": [
    "n_bank =  40\n",
    "frame_len = 100\n",
    "\n",
    "file_train, file_val, file_test = [], [], []\n",
    "spk_train, spk_val, spk_test = [], [], []\n",
    "frame_train, frame_val, frame_test = np.zeros((1, frame_len, n_bank)), np.zeros((1, frame_len, n_bank)), \\\n",
    "    np.zeros((1, frame_len, n_bank))\n",
    "\n",
    "list_dict = {'train': [file_train, spk_train, frame_train], 'val': [file_val, spk_val, frame_val],\n",
    "             'test': [file_test, spk_test, frame_test]}\n",
    "\n",
    "count=0\n",
    "for tag, lst in list_dict.items():\n",
    "    with open('sv_{}_manifest.csv'.format(tag), 'r') as f:\n",
    "        lines = f.readlines()\n",
    "        for line in lines:\n",
    "            count += 1\n",
    "            parsed = line.strip().split(',')\n",
    "            lst[0].append(parsed[0])\n",
    "            lst[1].append(int(parsed[1]))\n",
    "            #lst[1] = np.append(lst[1], parse_audio_ext(parsed[0], 150).numpy())\n",
    "            lst[2] = np.append(lst[2], parse_audio_mfe(parsed[0], frame_len).numpy(), axis = 0)\n",
    "            if tag=='train':\n",
    "                if count == 5000:\n",
    "                    count = 0\n",
    "                    break\n",
    "            else:\n",
    "                if count == 800:\n",
    "                    count = 0\n",
    "                    break"
   ]
  },
  {
   "cell_type": "code",
   "execution_count": 6,
   "metadata": {
    "collapsed": true
   },
   "outputs": [],
   "source": [
    "frame_train = list_dict['train'][2]\n",
    "frame_train = np.delete(frame_train, 0, axis = 0)\n",
    "frame_train_unrolled = np.reshape(frame_train, (-1, 40))\n",
    "\n",
    "frame_val = list_dict['val'][2]\n",
    "frame_val = np.delete(frame_val, 0, axis = 0)\n",
    "frame_val_unrolled = np.reshape(frame_val, (-1, 40))\n",
    "\n",
    "frame_test = list_dict['test'][2]\n",
    "frame_test = np.delete(frame_test, 0, axis = 0)\n",
    "frame_test_unrolled = np.reshape(frame_test, (-1, 40))"
   ]
  },
  {
   "cell_type": "code",
   "execution_count": 7,
   "metadata": {
    "collapsed": true
   },
   "outputs": [],
   "source": [
    "file_concat = list_dict['val'][0] + list_dict['test'][0]\n",
    "spk_concat = list_dict['val'][1] + list_dict['test'][1]"
   ]
  },
  {
   "cell_type": "markdown",
   "metadata": {},
   "source": [
    "### GMM Constants"
   ]
  },
  {
   "cell_type": "code",
   "execution_count": 13,
   "metadata": {
    "collapsed": true
   },
   "outputs": [],
   "source": [
    "n_gaussians = 1024\n",
    "n_inputs = 40\n",
    "max_iterations = 1000\n",
    "convergence_threshold = 1e-5\n",
    "subspace_dimension_of_t = 40"
   ]
  },
  {
   "cell_type": "markdown",
   "metadata": {},
   "source": [
    "### UBM Training"
   ]
  },
  {
   "cell_type": "code",
   "execution_count": 8,
   "metadata": {},
   "outputs": [
    {
     "data": {
      "text/plain": [
       "'\\nubm_gmm = bob.learn.em.GMMMachine(n_gaussians, n_inputs)\\n\\nubm_gmm.means = np.zeros((n_gaussians, n_inputs))\\n\\nubm_gmm_trainer = bob.learn.em.ML_GMMTrainer(True, True, True)\\n\\nbob.learn.em.train(ubm_gmm_trainer, ubm_gmm, frame_train_unrolled,\\n                  max_iterations=max_iterations,\\n                  convergence_threshold = convergence_threshold)\\n'"
      ]
     },
     "execution_count": 8,
     "metadata": {},
     "output_type": "execute_result"
    }
   ],
   "source": [
    "#Concatenation version of UBM trainer function, now not in use\n",
    "'''\n",
    "ubm_gmm = bob.learn.em.GMMMachine(n_gaussians, n_inputs)\n",
    "\n",
    "ubm_gmm.means = np.zeros((n_gaussians, n_inputs))\n",
    "\n",
    "ubm_gmm_trainer = bob.learn.em.ML_GMMTrainer(True, True, True)\n",
    "\n",
    "bob.learn.em.train(ubm_gmm_trainer, ubm_gmm, frame_train_unrolled,\n",
    "                  max_iterations=max_iterations,\n",
    "                  convergence_threshold = convergence_threshold)\n",
    "'''"
   ]
  },
  {
   "cell_type": "code",
   "execution_count": 21,
   "metadata": {},
   "outputs": [
    {
     "name": "stdout",
     "output_type": "stream",
     "text": [
      "Started GMM-UBM Training\n",
      "GMM-UBM Training Complete\n"
     ]
    }
   ],
   "source": [
    "ubm_gmm = bob.learn.em.GMMMachine(n_gaussians, n_inputs)\n",
    "\n",
    "ubm_gmm.means = np.zeros((n_gaussians, n_inputs))\n",
    "\n",
    "ubm_gmm_trainer = bob.learn.em.ML_GMMTrainer(True, True, True)\n",
    "\n",
    "ubm_gmm_trainer.initialize(ubm_gmm)\n",
    "\n",
    "#e_time = 0\n",
    "#m_time = 0\n",
    "print(\"Started GMM-UBM Training\")\n",
    "for frame in frame_train:\n",
    "        bob.learn.em.train(ubm_gmm_trainer, ubm_gmm, frame,\n",
    "                          max_iterations = 200,\n",
    "                          convergence_threshold = convergence_threshold)\n",
    "        '''\n",
    "        start_time = time.time()\n",
    "        ubm_gmm_trainer.e_step(ubm_gmm, frame)\n",
    "        e_time += time.time() - start_time\n",
    "        start_time = time.time()\n",
    "        ubm_gmm_trainer.m_step(ubm_gmm)\n",
    "        m_time += time.time() - start_time\n",
    "        print(e_time, m_time)\n",
    "        '''\n",
    "print(\"GMM-UBM Training Complete\")"
   ]
  },
  {
   "cell_type": "markdown",
   "metadata": {},
   "source": [
    "### Speaker GMM Training"
   ]
  },
  {
   "cell_type": "code",
   "execution_count": 10,
   "metadata": {},
   "outputs": [
    {
     "ename": "TypeError",
     "evalue": "`bob.learn.em.MAP_GMMTrainer' only processes 2D arrays of float64 for `e_step`",
     "output_type": "error",
     "traceback": [
      "\u001b[0;31m---------------------------------------------------------------------------\u001b[0m",
      "\u001b[0;31mTypeError\u001b[0m                                 Traceback (most recent call last)",
      "\u001b[0;32m<ipython-input-10-641a34a32344>\u001b[0m in \u001b[0;36m<module>\u001b[0;34m()\u001b[0m\n\u001b[1;32m      7\u001b[0m bob.learn.em.train(spk_gmm_trainer, spk_gmm, frame_test,\n\u001b[1;32m      8\u001b[0m                   \u001b[0mmax_iterations\u001b[0m\u001b[0;34m=\u001b[0m\u001b[0mmax_iterations\u001b[0m\u001b[0;34m,\u001b[0m\u001b[0;34m\u001b[0m\u001b[0m\n\u001b[0;32m----> 9\u001b[0;31m                   convergence_threshold = convergence_threshold)\n\u001b[0m",
      "\u001b[0;32m~/anaconda3/envs/PyTorch/lib/python3.6/site-packages/bob/learn/em/train.py\u001b[0m in \u001b[0;36mtrain\u001b[0;34m(trainer, machine, data, max_iterations, convergence_threshold, initialize, rng, check_inputs)\u001b[0m\n\u001b[1;32m     51\u001b[0m             \u001b[0mtrainer\u001b[0m\u001b[0;34m.\u001b[0m\u001b[0minitialize\u001b[0m\u001b[0;34m(\u001b[0m\u001b[0mmachine\u001b[0m\u001b[0;34m,\u001b[0m \u001b[0mdata\u001b[0m\u001b[0;34m)\u001b[0m\u001b[0;34m\u001b[0m\u001b[0m\n\u001b[1;32m     52\u001b[0m \u001b[0;34m\u001b[0m\u001b[0m\n\u001b[0;32m---> 53\u001b[0;31m     \u001b[0mtrainer\u001b[0m\u001b[0;34m.\u001b[0m\u001b[0me_step\u001b[0m\u001b[0;34m(\u001b[0m\u001b[0mmachine\u001b[0m\u001b[0;34m,\u001b[0m \u001b[0mdata\u001b[0m\u001b[0;34m)\u001b[0m\u001b[0;34m\u001b[0m\u001b[0m\n\u001b[0m\u001b[1;32m     54\u001b[0m     \u001b[0maverage_output\u001b[0m \u001b[0;34m=\u001b[0m \u001b[0;36m0\u001b[0m\u001b[0;34m\u001b[0m\u001b[0m\n\u001b[1;32m     55\u001b[0m     \u001b[0maverage_output_previous\u001b[0m \u001b[0;34m=\u001b[0m \u001b[0;36m0\u001b[0m\u001b[0;34m\u001b[0m\u001b[0m\n",
      "\u001b[0;31mTypeError\u001b[0m: `bob.learn.em.MAP_GMMTrainer' only processes 2D arrays of float64 for `e_step`"
     ]
    }
   ],
   "source": [
    "#Concatenation version of Spk-GMM trainer function, now not in use\n",
    "'''\n",
    "spk_gmm = bob.learn.em.GMMMachine(n_gaussians, n_inputs)\n",
    "\n",
    "spk_gmm.means = np.zeros((n_gaussians, n_inputs))\n",
    "\n",
    "spk_gmm_trainer = bob.learn.em.MAP_GMMTrainer(ubm_gmm, relevance_factor = 4)\n",
    "\n",
    "bob.learn.em.train(spk_gmm_trainer, spk_gmm, frame_test,\n",
    "                  max_iterations=max_iterations,\n",
    "                  convergence_threshold = convergence_threshold)\n",
    "'''"
   ]
  },
  {
   "cell_type": "markdown",
   "metadata": {},
   "source": [
    "### i-Vector Extraction"
   ]
  },
  {
   "cell_type": "code",
   "execution_count": 15,
   "metadata": {
    "collapsed": true
   },
   "outputs": [],
   "source": [
    "def get_gmm_stats_per_class(frames, gmm, n_gaussians, n_inputs):\n",
    "    gmm_stats_per_class = []\n",
    "    for frame in frames:\n",
    "        gmm_stats_container = bob.learn.em.GMMStats(n_gaussians, n_inputs)\n",
    "        gmm.acc_statistics(frame, gmm_stats_container)\n",
    "        gmm_stats_per_class.append(gmm_stats_container)\n",
    "    return gmm_stats_per_class"
   ]
  },
  {
   "cell_type": "code",
   "execution_count": 47,
   "metadata": {
    "collapsed": true
   },
   "outputs": [],
   "source": [
    "def get_iVector(frames, ubm, subdim_t=40, n_gaussians=1024, n_inputs=40):\n",
    "    iVector_trainer = bob.learn.em.IVectorTrainer(update_sigma = True)\n",
    "    \n",
    "    iVector_machine = bob.learn.em.IVectorMachine(\n",
    "        ubm, 40, 10e-5)\n",
    "    \n",
    "    print(\"i-Vector Machine Instantiation Complete:\", iVector_machine.shape, iVector_machine.t.shape)\n",
    "    \n",
    "    stats_per_class = get_gmm_stats_per_class(frames, ubm, n_gaussians, n_inputs)\n",
    "    \n",
    "    print(\"GMM Stats Extraction Complete for\", len(stats_per_class), \"Utterances\")\n",
    "    \n",
    "    bob.learn.em.train(iVector_trainer, iVector_machine,\n",
    "                      stats_per_class, 500)\n",
    "    \n",
    "    print(\"T Matrix Training Complete with Shape:\", iVector_machine.t.shape)\n",
    "    \n",
    "    iVectors = []\n",
    "    \n",
    "    for stat in stats_per_class:\n",
    "        iVectors.append(iVector_machine.project(stat))\n",
    "    \n",
    "    iVectors = np.vstack(iVectors)\n",
    "    \n",
    "    print(\"i-Vector Extraction Complete with Shape:\", iVectors.shape)\n",
    "    \n",
    "    return iVectors"
   ]
  },
  {
   "cell_type": "markdown",
   "metadata": {
    "collapsed": true
   },
   "source": [
    "### ROC Curve"
   ]
  },
  {
   "cell_type": "code",
   "execution_count": 38,
   "metadata": {},
   "outputs": [
    {
     "name": "stdout",
     "output_type": "stream",
     "text": [
      "Populating the interactive namespace from numpy and matplotlib\n"
     ]
    },
    {
     "name": "stderr",
     "output_type": "stream",
     "text": [
      "/home/ideal_kar/anaconda3/envs/PyTorch/lib/python3.6/site-packages/IPython/core/magics/pylab.py:160: UserWarning: pylab import has clobbered these variables: ['random']\n",
      "`%matplotlib` prevents importing * from pylab and numpy\n",
      "  \"\\n`%matplotlib` prevents importing * from pylab and numpy\"\n"
     ]
    }
   ],
   "source": [
    "%pylab inline\n",
    "import os\n",
    "os.sys.path.append('../')\n",
    "from data.data_loader import SpectrogramDatasetPair, AudioDataLoaderPair\n",
    "import data.make_manifest as manifest\n",
    "import random"
   ]
  },
  {
   "cell_type": "code",
   "execution_count": 39,
   "metadata": {},
   "outputs": [
    {
     "name": "stdout",
     "output_type": "stream",
     "text": [
      "40\n"
     ]
    }
   ],
   "source": [
    "speaker_wavs = {}\n",
    "\n",
    "for file, spk in zip(file_concat, spk_concat):\n",
    "    if spk not in speaker_wavs:\n",
    "        speaker_wavs[spk] = [file]\n",
    "    else:\n",
    "        speaker_wavs[spk].append(file)\n",
    "\n",
    "all_speakers = list(speaker_wavs.keys())\n",
    "print(len(all_speakers))\n",
    "enroll_spk_size = 10\n",
    "test_spk_size = 30\n",
    "n_classes = enroll_spk_size\n",
    "enroll_uttrs_rate = 0.5"
   ]
  },
  {
   "cell_type": "code",
   "execution_count": 44,
   "metadata": {
    "collapsed": true
   },
   "outputs": [],
   "source": [
    "random_speakers = np.random.choice(all_speakers, enroll_spk_size + test_spk_size, replace=False)\n",
    "enrolled_speakers = random_speakers[:enroll_spk_size]\n",
    "test_speakers = random_speakers[enroll_spk_size:]\n",
    "\n",
    "speaker_id = {}\n",
    "n_classes = enroll_spk_size\n",
    "for i, spk in enumerate(enrolled_speakers):\n",
    "    speaker_id[spk] = i\n"
   ]
  },
  {
   "cell_type": "code",
   "execution_count": 45,
   "metadata": {
    "scrolled": false
   },
   "outputs": [
    {
     "name": "stdout",
     "output_type": "stream",
     "text": [
      "13\n",
      "15\n",
      "15\n",
      "55\n",
      "14\n",
      "15\n",
      "15\n",
      "14\n",
      "14\n",
      "53\n"
     ]
    }
   ],
   "source": [
    "enroll_X, enroll_y = [], []\n",
    "test_X, test_y = [], []\n",
    "\n",
    "for spk in enrolled_speakers:\n",
    "    wavs = speaker_wavs[spk]\n",
    "    video_names = []\n",
    "    for wav_path in wavs:\n",
    "        video_names.append(wav_path)\n",
    "    video_names = set(video_names)\n",
    "    total_video = len(video_names)\n",
    "    enroll_set = random.choices(list(video_names), k=int(total_video*enroll_uttrs_rate))\n",
    "    print(len(enroll_set))\n",
    "    test_set = list(video_names - set(enroll_set))\n",
    "    for wav_path in wavs:\n",
    "        video_name = wav_path\n",
    "        if video_name in enroll_set:\n",
    "            enroll_X.append(wav_path)\n",
    "            enroll_y.append(speaker_id[spk])\n",
    "        else:\n",
    "            test_X.append(wav_path)\n",
    "            test_y.append(speaker_id[spk])"
   ]
  },
  {
   "cell_type": "code",
   "execution_count": 48,
   "metadata": {},
   "outputs": [
    {
     "name": "stdout",
     "output_type": "stream",
     "text": [
      "i-Vector Machine Instantiation Complete: (1024, 40, 40) (40960, 40)\n",
      "GMM Stats Extraction Complete for 175 Utterances\n",
      "T Matrix Training Complete with Shape: (40960, 40)\n",
      "i-Vector Extraction Complete with Shape: (175, 40)\n"
     ]
    }
   ],
   "source": [
    "embeddings = np.zeros((n_classes, 40))\n",
    "\n",
    "frames_enroll = np.zeros((1, frame_len, n_bank))\n",
    "emb_labels = []\n",
    "\n",
    "for wav_path, label in zip(enroll_X, enroll_y):\n",
    "    audio_path = wav_path\n",
    "    audio_input = parse_audio_mfe(audio_path, frame_len).numpy()\n",
    "    \n",
    "    frames_enroll = np.append(frames_enroll, audio_input, axis=0)\n",
    "    emb_labels.append(label)\n",
    "\n",
    "frames_enroll = np.delete(frames_enroll, 0, axis = 0)\n",
    "embs = get_iVector(frames_enroll, ubm_gmm, subspace_dimension_of_t, n_gaussians, n_inputs)\n",
    "\n",
    "counts_per_label = np.zeros((n_classes, 40))\n",
    "\n",
    "for emb, label in zip(embs, emb_labels):\n",
    "    embeddings[label] = np.add(embeddings[label], emb)\n",
    "    counts_per_label[label] = np.add(counts_per_label[label], np.ones((1, 40)))\n",
    "\n",
    "speaker_model = np.copy(embeddings)\n",
    "\n",
    "for j in range(n_classes):\n",
    "    speaker_model[j] = np.divide(speaker_model[j], counts_per_label[j])\n",
    "#for i in range(n_classes):\n",
    "#    speaker_model[i] = embeddings[i] / np.count_nonzero(np.array(enroll_y) == i)"
   ]
  },
  {
   "cell_type": "code",
   "execution_count": 49,
   "metadata": {
    "scrolled": true
   },
   "outputs": [
    {
     "name": "stdout",
     "output_type": "stream",
     "text": [
      "i-Vector Machine Instantiation Complete: (1024, 40, 40) (40960, 40)\n",
      "GMM Stats Extraction Complete for 272 Utterances\n",
      "T Matrix Training Complete with Shape: (40960, 40)\n",
      "i-Vector Extraction Complete with Shape: (272, 40)\n"
     ]
    }
   ],
   "source": [
    "from scipy.spatial.distance import cosine\n",
    "score_vector = np.zeros((len(test_X), n_classes))\n",
    "label_vector = np.zeros((len(test_X), n_classes))\n",
    "\n",
    "frames_test = np.zeros((1, frame_len, n_bank))\n",
    "test_labels = []\n",
    "\n",
    "for i, (wav_path, label) in enumerate(zip(test_X, test_y)):\n",
    "    audio_path = wav_path\n",
    "    audio_input = parse_audio_mfe(audio_path, frame_len).numpy()\n",
    "    \n",
    "    frames_test = np.append(frames_test, audio_input, axis=0)\n",
    "    test_labels.append(label)\n",
    "    \n",
    "frames_test = np.delete(frames_test, 0, axis = 0)\n",
    "\n",
    "embs = get_iVector(frames_test, ubm_gmm, subspace_dimension_of_t, n_gaussians, n_inputs)\n",
    "\n",
    "for i, (emb, label) in enumerate(zip(embs, test_labels)):\n",
    "    for j in range(n_classes):\n",
    "        score = (2 - cosine(emb, speaker_model[j]))/2\n",
    "        score_vector[i][j] = score\n",
    "        label_vector[i][j] = 1 if label == j else 0"
   ]
  },
  {
   "cell_type": "code",
   "execution_count": 50,
   "metadata": {
    "collapsed": true
   },
   "outputs": [],
   "source": [
    "for i, (emb, label) in enumerate(zip(embs, test_labels)):\n",
    "    for j in range(n_classes):\n",
    "        score = 1 - cosine(emb, speaker_model[j])\n",
    "        score_vector[i][j] = score\n",
    "        label_vector[i][j] = 1 if label == j else 0"
   ]
  },
  {
   "cell_type": "code",
   "execution_count": 51,
   "metadata": {},
   "outputs": [
    {
     "data": {
      "image/png": "[encoded data removed]",
      "text/plain": [
       "<matplotlib.figure.Figure at 0x7fe39f91ea20>"
      ]
     },
     "metadata": {},
     "output_type": "display_data"
    }
   ],
   "source": [
    "from sklearn.metrics import roc_curve, auc\n",
    "# Compute ROC curve and ROC area for each class\n",
    "fpr = dict()\n",
    "tpr = dict()\n",
    "roc_auc = dict()\n",
    "eer = dict()\n",
    "thres = dict()\n",
    "for i in range(n_classes):\n",
    "    fpr[i], tpr[i], thres[i] = roc_curve(label_vector[:, i], score_vector[:, i], pos_label=1)\n",
    "    roc_auc[i] = auc(fpr[i], tpr[i])\n",
    "\n",
    "# Compute micro-average ROC curve and ROC area\n",
    "fpr[\"micro\"], tpr[\"micro\"], thres[\"micro\"] = roc_curve(label_vector.ravel(), score_vector.ravel())\n",
    "roc_auc[\"micro\"] = auc(fpr[\"micro\"], tpr[\"micro\"])\n",
    "eer[\"micro\"] = fpr[\"micro\"][np.nanargmin(np.abs(fpr[\"micro\"] - (1 - tpr[\"micro\"])))]\n",
    "\n",
    "for i in range(n_classes):\n",
    "    eer[i] = fpr[i][np.nanargmin(np.abs(fpr[i] - (1 - tpr[i])))]\n",
    "    \n",
    "\n",
    "from scipy import interp\n",
    "from itertools import cycle\n",
    "lw = 2\n",
    "# Compute macro-average ROC curve and ROC area\n",
    "# First aggregate all false positive rates\n",
    "all_fpr = np.unique(np.concatenate([fpr[i] for i in range(n_classes)]))\n",
    "\n",
    "# Then interpolate all ROC curves at this points\n",
    "mean_tpr = np.zeros_like(all_fpr)\n",
    "for i in range(n_classes):\n",
    "    mean_tpr += interp(all_fpr, fpr[i], tpr[i])\n",
    "\n",
    "# Finally average it and compute AUC\n",
    "mean_tpr /= n_classes\n",
    "\n",
    "fpr[\"macro\"] = all_fpr\n",
    "tpr[\"macro\"] = mean_tpr\n",
    "roc_auc[\"macro\"] = auc(fpr[\"macro\"], tpr[\"macro\"])\n",
    "eer[\"macro\"] = fpr[\"macro\"][np.nanargmin(np.abs(fpr[\"macro\"] - (1 - tpr[\"macro\"])))]\n",
    "# Plot all ROC curves\n",
    "fig = plt.figure(figsize=(20,10))\n",
    "plt.plot(fpr[\"micro\"], tpr[\"micro\"],\n",
    "         label='micro-average ROC curve (area = {0:0.2f}, eer = {1:0.2f})'\n",
    "               ''.format(roc_auc[\"micro\"], eer[\"micro\"]),\n",
    "         color='deeppink', linestyle=':', linewidth=4)\n",
    "\n",
    "plt.plot(fpr[\"macro\"], tpr[\"macro\"],\n",
    "         label='macro-average ROC curve (area = {0:0.2f}, eer = {1:0.2f})'\n",
    "               ''.format(roc_auc[\"macro\"], eer[\"macro\"]),\n",
    "         color='navy', linestyle=':', linewidth=4)\n",
    "\n",
    "\n",
    "colors = cycle(['aqua', 'darkorange', 'cornflowerblue'])\n",
    "for i, color in zip(range(n_classes), colors):\n",
    "    plt.plot(fpr[i], tpr[i], color=color, lw=lw,\n",
    "             label='ROC curve of class {0} (area = {1:0.2f}, eer = {2:0.2f})'\n",
    "             ''.format(i, roc_auc[i], eer[i]))\n",
    "\n",
    "plt.plot([0, 1], [0, 1], 'k--', lw=lw)\n",
    "plt.xlim([0.0, 1.0])\n",
    "plt.ylim([0.0, 1.05])\n",
    "plt.xlabel('False Positive Rate')\n",
    "plt.ylabel('True Positive Rate')\n",
    "plt.title('Some extension of Receiver operating characteristic to multi-class')\n",
    "plt.legend(loc=\"lower right\")\n",
    "plt.show()"
   ]
  },
  {
   "cell_type": "code",
   "execution_count": null,
   "metadata": {
    "collapsed": true
   },
   "outputs": [],
   "source": []
  }
 ],
 "metadata": {
  "kernelspec": {
   "display_name": "Python 3",
   "language": "python",
   "name": "python3"
  },
  "language_info": {
   "codemirror_mode": {
    "name": "ipython",
    "version": 3
   },
   "file_extension": ".py",
   "mimetype": "text/x-python",
   "name": "python",
   "nbconvert_exporter": "python",
   "pygments_lexer": "ipython3",
   "version": "3.6.3"
  }
 },
 "nbformat": 4,
 "nbformat_minor": 2
}
