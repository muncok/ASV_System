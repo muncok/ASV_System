{
 "cells": [
  {
   "cell_type": "code",
   "execution_count": 2,
   "metadata": {},
   "outputs": [
    {
     "name": "stdout",
     "output_type": "stream",
     "text": [
      "Populating the interactive namespace from numpy and matplotlib\n"
     ]
    }
   ],
   "source": [
    "%load_ext autoreload\n",
    "%autoreload 2\n",
    "%pylab inline\n",
    "import pandas as pd\n",
    "import os"
   ]
  },
  {
   "cell_type": "code",
   "execution_count": 3,
   "metadata": {},
   "outputs": [],
   "source": [
    "import pprint\n",
    "pp = pprint.PrettyPrinter(indent=4)"
   ]
  },
  {
   "cell_type": "code",
   "execution_count": 4,
   "metadata": {},
   "outputs": [],
   "source": [
    "import sys\n",
    "sys.path.append(\"/home/muncok/DL/projects/sv_system/\")"
   ]
  },
  {
   "cell_type": "code",
   "execution_count": 41,
   "metadata": {},
   "outputs": [],
   "source": [
    "import csv\n",
    "def write_manifest(dataset, save_path, label_idx):\n",
    "    samples = []\n",
    "    with open(save_path, 'w') as f:\n",
    "        for index, row in dataset.iterrows():\n",
    "            file_path = os.path.join(data_dir, row.dir, row.file)\n",
    "            label = label_idx.index(row.spk)\n",
    "            sample = ','.join([file_path, str(label)])\n",
    "            samples.append(sample)\n",
    "        random.shuffle(samples)\n",
    "        writer = csv.writer(f, delimiter='\\n', quoting=csv.QUOTE_NONE)\n",
    "        writer.writerow(samples)\n",
    "        print(\"{} was written\".format(save_path))"
   ]
  },
  {
   "cell_type": "markdown",
   "metadata": {},
   "source": [
    "# Dataframes\n",
    "command: disjoint speaker split"
   ]
  },
  {
   "cell_type": "code",
   "execution_count": 36,
   "metadata": {},
   "outputs": [],
   "source": [
    "dataframe_dir = '/home/muncok/DL/dataset/SV_sets/dataframes/'\n",
    "data_dir = '/home/muncok/DL/dataset/SV_sets/speech_commands/'\n",
    "data_df = pd.read_pickle(os.path.join(dataframe_dir,'Command_Dataframe.pkl'))\n",
    "data_df['dir'] = data_df.sent"
   ]
  },
  {
   "cell_type": "markdown",
   "metadata": {},
   "source": [
    "### Dataset split"
   ]
  },
  {
   "cell_type": "code",
   "execution_count": 37,
   "metadata": {},
   "outputs": [],
   "source": [
    "#TODO: correct splits\n",
    "all_spks = data_df.spk.unique()\n",
    "all_sents = data_df.sent.unique()\n",
    "uttrs_counts = data_df.spk.value_counts()\n",
    "sv_spks = list(uttrs_counts.index[200:])\n",
    "si_spks = list(uttrs_counts.index[:200])"
   ]
  },
  {
   "cell_type": "code",
   "execution_count": 38,
   "metadata": {},
   "outputs": [],
   "source": [
    "train_spks = si_spks[:100]\n",
    "val_spks = si_spks[100:150]"
   ]
  },
  {
   "cell_type": "code",
   "execution_count": 46,
   "metadata": {},
   "outputs": [
    {
     "name": "stdout",
     "output_type": "stream",
     "text": [
      "[random] train:8000, val:4000\n"
     ]
    }
   ],
   "source": [
    "# random sampling\n",
    "si_df = data_df[data_df.spk.isin(si_spks)]\n",
    "train_sets = []\n",
    "trainval_sets = []\n",
    "val_sets = []\n",
    "for spk in train_spks:\n",
    "    train_set = si_df[si_df.spk==spk].sample(n=80)\n",
    "    train_sets.append(train_set)\n",
    "    trainval_sets.append(si_df[si_df.spk==spk].drop(index=train_set.index))\n",
    "for spk in val_spks:\n",
    "    val_sets.append(si_df[si_df.spk==spk].sample(n=80))\n",
    "\n",
    "si_train = pd.concat(train_sets)\n",
    "si_trainval = pd.concat(trainval_sets)\n",
    "si_val = pd.concat(val_sets)\n",
    "print(\"[random] train:{}, val:{}\".format(len(si_train), len(si_val)))"
   ]
  },
  {
   "cell_type": "code",
   "execution_count": 48,
   "metadata": {},
   "outputs": [
    {
     "name": "stdout",
     "output_type": "stream",
     "text": [
      "manifest/commands/si_commands_train_manifest.csv was written\n"
     ]
    }
   ],
   "source": [
    "write_manifest(si_train, \"manifest/commands/si_commands_train_manifest.csv\", train_spks)"
   ]
  },
  {
   "cell_type": "code",
   "execution_count": 51,
   "metadata": {},
   "outputs": [
    {
     "name": "stdout",
     "output_type": "stream",
     "text": [
      "manifest/commands/si_commands_trainval_manifest.csv was written\n"
     ]
    }
   ],
   "source": [
    "write_manifest(si_trainval, \"manifest/commands/si_commands_trainval_manifest.csv\", train_spks)"
   ]
  },
  {
   "cell_type": "code",
   "execution_count": 52,
   "metadata": {},
   "outputs": [
    {
     "name": "stdout",
     "output_type": "stream",
     "text": [
      "manifest/commands/si_commands_val_manifest.csv was written\n",
      "manifest/commands/si_commands_test_manifest.csv was written\n"
     ]
    }
   ],
   "source": [
    "write_manifest(si_val, \"manifest/commands/si_commands_val_manifest.csv\", val_spks)\n",
    "write_manifest(si_val, \"manifest/commands/si_commands_test_manifest.csv\", val_spks)"
   ]
  },
  {
   "cell_type": "code",
   "execution_count": null,
   "metadata": {},
   "outputs": [],
   "source": [
    "base_train = si_train"
   ]
  },
  {
   "cell_type": "markdown",
   "metadata": {},
   "source": [
    "## Baseline (Speaker Dicriminant DNN)"
   ]
  },
  {
   "cell_type": "code",
   "execution_count": 65,
   "metadata": {},
   "outputs": [],
   "source": [
    "import honk_sv.train as train\n",
    "import honk_sv.dataset as dset\n",
    "\n",
    "\n",
    "global_config = dict(model=model, dataset=\"commands\",\n",
    "                     no_cuda=False,  gpu_no=0,\n",
    "                     n_epochs=100, batch_size=64,\n",
    "                     lr=[0.01, 0.001], schedule=[np.inf], dev_every=1, seed=0, use_nesterov=False,\n",
    "                     cache_size=32768, momentum=0.9, weight_decay=0.00001,\n",
    "                     num_workers=32, print_step=100,\n",
    "                     splice_length=20, bn_size=256\n",
    "                     )\n",
    "\n",
    "builder = train.ConfigBuilder(dset.SpeechDataset.default_config(),\n",
    "                             global_config)\n",
    "parser = builder.build_argparse()\n",
    "config = builder.config_from_argparse(parser)\n",
    "config['data_dir'] = \"/home/muncok/DL/dataset/SV_sets/speech_commands/\""
   ]
  },
  {
   "cell_type": "code",
   "execution_count": 85,
   "metadata": {},
   "outputs": [],
   "source": [
    "import torch.nn as nn\n",
    "x_dim = [1, 28, 28]\n",
    "hid_dim = 64\n",
    "z_dim = 64\n",
    "\n",
    "class Flatten(nn.Module):\n",
    "    def __init__(self):\n",
    "        super(Flatten, self).__init__()\n",
    "\n",
    "    def forward(self, x):\n",
    "        return x.view(x.size(0), -1)\n",
    "\n",
    "def conv_block(in_channels, out_channels):\n",
    "    return nn.Sequential(\n",
    "        nn.Conv2d(in_channels, out_channels, 3, padding=1),\n",
    "        nn.BatchNorm2d(out_channels),\n",
    "        nn.ReLU(),\n",
    "        nn.MaxPool2d(2)\n",
    "    )\n",
    "\n",
    "model = nn.Sequential(Ordered\n",
    "    conv_block(x_dim[0], hid_dim),\n",
    "    conv_block(hid_dim, hid_dim),\n",
    "    conv_block(hid_dim, hid_dim),\n",
    "    conv_block(hid_dim, z_dim),\n",
    "    Flatten(),\n",
    "    nn.Linear(768, 100)\n",
    ")"
   ]
  },
  {
   "cell_type": "code",
   "execution_count": 87,
   "metadata": {},
   "outputs": [
    {
     "name": "stdout",
     "output_type": "stream",
     "text": [
      "train step #99 accuracy: 0.640625, loss: 1.5126124620437622\n",
      "epoch #0, final dev accuracy: 0.6308962264150944\n",
      "saving best model...\n",
      "train step #199 accuracy: 0.765625, loss: 0.8648862242698669\n",
      "epoch #1, final dev accuracy: 0.7920597484276729\n",
      "saving best model...\n",
      "train step #299 accuracy: 0.921875, loss: 0.4000552296638489\n",
      "epoch #2, final dev accuracy: 0.7896029874213837\n",
      "train step #399 accuracy: 0.859375, loss: 0.5234934687614441\n",
      "train step #499 accuracy: 0.921875, loss: 0.3242689073085785\n",
      "epoch #3, final dev accuracy: 0.8474842767295597\n",
      "saving best model...\n",
      "train step #599 accuracy: 0.953125, loss: 0.203951895236969\n",
      "epoch #4, final dev accuracy: 0.8583922955974842\n",
      "saving best model...\n",
      "train step #699 accuracy: 0.96875, loss: 0.20342430472373962\n",
      "epoch #5, final dev accuracy: 0.8835495283018868\n",
      "saving best model...\n",
      "train step #799 accuracy: 0.96875, loss: 0.14396411180496216\n",
      "epoch #6, final dev accuracy: 0.8806014150943396\n",
      "train step #899 accuracy: 0.953125, loss: 0.18563376367092133\n",
      "train step #999 accuracy: 0.96875, loss: 0.11642760038375854\n",
      "epoch #7, final dev accuracy: 0.8912146226415094\n",
      "saving best model...\n",
      "train step #1099 accuracy: 0.984375, loss: 0.12076786160469055\n",
      "epoch #8, final dev accuracy: 0.9068396226415094\n",
      "saving best model...\n",
      "train step #1199 accuracy: 0.96875, loss: 0.12186390161514282\n",
      "epoch #9, final dev accuracy: 0.9174528301886793\n",
      "saving best model...\n",
      "train step #1299 accuracy: 0.953125, loss: 0.11614188551902771\n",
      "epoch #10, final dev accuracy: 0.9233490566037735\n",
      "saving best model...\n",
      "train step #1399 accuracy: 1.0, loss: 0.03348250687122345\n",
      "train step #1499 accuracy: 1.0, loss: 0.05039730668067932\n",
      "epoch #11, final dev accuracy: 0.9383844339622641\n",
      "saving best model...\n",
      "train step #1599 accuracy: 0.96875, loss: 0.07446679472923279\n",
      "epoch #12, final dev accuracy: 0.9212853773584906\n",
      "train step #1699 accuracy: 1.0, loss: 0.0475454181432724\n",
      "epoch #13, final dev accuracy: 0.9336674528301887\n",
      "train step #1799 accuracy: 1.0, loss: 0.036599621176719666\n",
      "epoch #14, final dev accuracy: 0.9351415094339622\n",
      "train step #1899 accuracy: 0.984375, loss: 0.025225743651390076\n",
      "train step #1999 accuracy: 0.984375, loss: 0.07543893158435822\n",
      "epoch #15, final dev accuracy: 0.927378144654088\n",
      "train step #2099 accuracy: 0.984375, loss: 0.04086443781852722\n",
      "epoch #16, final dev accuracy: 0.9454599056603774\n",
      "saving best model...\n",
      "train step #2199 accuracy: 1.0, loss: 0.02549894154071808\n",
      "epoch #17, final dev accuracy: 0.9463443396226415\n",
      "saving best model...\n",
      "train step #2299 accuracy: 1.0, loss: 0.020784124732017517\n",
      "epoch #18, final dev accuracy: 0.9481132075471698\n",
      "saving best model...\n",
      "train step #2399 accuracy: 0.984375, loss: 0.052400290966033936\n",
      "train step #2499 accuracy: 1.0, loss: 0.010709956288337708\n",
      "epoch #19, final dev accuracy: 0.9540094339622641\n",
      "saving best model...\n",
      "train step #2599 accuracy: 1.0, loss: 0.025898203253746033\n",
      "epoch #20, final dev accuracy: 0.9513561320754716\n",
      "train step #2699 accuracy: 1.0, loss: 0.009626537561416626\n",
      "epoch #21, final dev accuracy: 0.9516509433962265\n",
      "train step #2799 accuracy: 1.0, loss: 0.022180169820785522\n",
      "epoch #22, final dev accuracy: 0.9563679245283019\n",
      "saving best model...\n",
      "train step #2899 accuracy: 1.0, loss: 0.003826439380645752\n",
      "train step #2999 accuracy: 1.0, loss: 0.01233246922492981\n",
      "epoch #23, final dev accuracy: 0.9528301886792453\n",
      "train step #3099 accuracy: 1.0, loss: 0.004577189683914185\n",
      "epoch #24, final dev accuracy: 0.9575471698113207\n",
      "saving best model...\n",
      "train step #3199 accuracy: 1.0, loss: 0.004091143608093262\n",
      "epoch #25, final dev accuracy: 0.9486045597484276\n",
      "train step #3299 accuracy: 1.0, loss: 0.004259645938873291\n",
      "epoch #26, final dev accuracy: 0.9560731132075472\n",
      "train step #3399 accuracy: 1.0, loss: 0.01149141788482666\n",
      "train step #3499 accuracy: 1.0, loss: 0.006338179111480713\n",
      "epoch #27, final dev accuracy: 0.9522405660377359\n",
      "train step #3599 accuracy: 1.0, loss: 0.005341887474060059\n",
      "epoch #28, final dev accuracy: 0.9486045597484276\n",
      "train step #3699 accuracy: 1.0, loss: 0.0054728686809539795\n",
      "epoch #29, final dev accuracy: 0.9551886792452831\n",
      "train step #3799 accuracy: 1.0, loss: 0.009944319725036621\n",
      "epoch #30, final dev accuracy: 0.9540094339622641\n",
      "train step #3899 accuracy: 1.0, loss: 0.006523683667182922\n",
      "train step #3999 accuracy: 1.0, loss: 0.003645181655883789\n",
      "epoch #31, final dev accuracy: 0.9548938679245284\n",
      "train step #4099 accuracy: 1.0, loss: 0.008501142263412476\n",
      "epoch #32, final dev accuracy: 0.9525353773584906\n",
      "train step #4199 accuracy: 1.0, loss: 0.004699245095252991\n",
      "epoch #33, final dev accuracy: 0.9537146226415094\n",
      "train step #4299 accuracy: 1.0, loss: 0.004781395196914673\n",
      "epoch #34, final dev accuracy: 0.9599056603773585\n",
      "saving best model...\n",
      "train step #4399 accuracy: 1.0, loss: 0.002663537859916687\n",
      "train step #4499 accuracy: 1.0, loss: 0.003488093614578247\n",
      "epoch #35, final dev accuracy: 0.9516509433962265\n",
      "train step #4599 accuracy: 1.0, loss: 0.0019115805625915527\n",
      "epoch #36, final dev accuracy: 0.9536163522012578\n",
      "train step #4699 accuracy: 1.0, loss: 0.003858223557472229\n",
      "epoch #37, final dev accuracy: 0.9599056603773585\n",
      "train step #4799 accuracy: 1.0, loss: 0.00241205096244812\n",
      "epoch #38, final dev accuracy: 0.9575471698113207\n",
      "train step #4899 accuracy: 1.0, loss: 0.006109908223152161\n",
      "train step #4999 accuracy: 1.0, loss: 0.001148819923400879\n",
      "epoch #39, final dev accuracy: 0.9473270440251573\n",
      "train step #5099 accuracy: 1.0, loss: 0.0011196434497833252\n",
      "epoch #40, final dev accuracy: 0.9521422955974842\n",
      "train step #5199 accuracy: 1.0, loss: 0.0033888518810272217\n",
      "epoch #41, final dev accuracy: 0.9506682389937107\n",
      "train step #5299 accuracy: 1.0, loss: 0.008910059928894043\n",
      "epoch #42, final dev accuracy: 0.9584316037735849\n",
      "train step #5399 accuracy: 1.0, loss: 0.0019308030605316162\n",
      "train step #5499 accuracy: 1.0, loss: 0.0031152963638305664\n",
      "epoch #43, final dev accuracy: 0.9587264150943396\n",
      "train step #5599 accuracy: 1.0, loss: 0.0026426613330841064\n",
      "epoch #44, final dev accuracy: 0.9607900943396226\n",
      "saving best model...\n",
      "train step #5699 accuracy: 1.0, loss: 0.0018032193183898926\n",
      "epoch #45, final dev accuracy: 0.9607900943396226\n",
      "train step #5799 accuracy: 1.0, loss: 0.0025078952312469482\n",
      "epoch #46, final dev accuracy: 0.9578419811320755\n",
      "train step #5899 accuracy: 1.0, loss: 0.002563774585723877\n",
      "train step #5999 accuracy: 1.0, loss: 0.002673238515853882\n",
      "epoch #47, final dev accuracy: 0.9610849056603774\n",
      "saving best model...\n",
      "train step #6099 accuracy: 1.0, loss: 0.010275065898895264\n",
      "epoch #48, final dev accuracy: 0.9625589622641509\n",
      "saving best model...\n",
      "train step #6199 accuracy: 1.0, loss: 0.003175288438796997\n",
      "epoch #49, final dev accuracy: 0.9521422955974842\n",
      "train step #6299 accuracy: 1.0, loss: 0.0025313496589660645\n",
      "epoch #50, final dev accuracy: 0.9602004716981132\n",
      "train step #6399 accuracy: 1.0, loss: 0.0049622803926467896\n",
      "train step #6499 accuracy: 1.0, loss: 0.005431920289993286\n",
      "epoch #51, final dev accuracy: 0.9602004716981132\n",
      "train step #6599 accuracy: 1.0, loss: 0.002904638648033142\n",
      "epoch #52, final dev accuracy: 0.9596108490566038\n",
      "train step #6699 accuracy: 1.0, loss: 0.0007143318653106689\n",
      "epoch #53, final dev accuracy: 0.9575471698113207\n",
      "train step #6799 accuracy: 1.0, loss: 0.004332304000854492\n",
      "epoch #54, final dev accuracy: 0.9569575471698113\n",
      "train step #6899 accuracy: 1.0, loss: 0.0016470253467559814\n",
      "train step #6999 accuracy: 1.0, loss: 0.002529650926589966\n",
      "epoch #55, final dev accuracy: 0.9596108490566038\n",
      "train step #7099 accuracy: 1.0, loss: 0.0009070634841918945\n",
      "epoch #56, final dev accuracy: 0.9596108490566038\n",
      "train step #7199 accuracy: 1.0, loss: 0.004074513912200928\n",
      "epoch #57, final dev accuracy: 0.9613797169811321\n",
      "train step #7299 accuracy: 1.0, loss: 0.00116005539894104\n",
      "epoch #58, final dev accuracy: 0.9607900943396226\n",
      "train step #7399 accuracy: 1.0, loss: 0.0010009407997131348\n",
      "train step #7499 accuracy: 1.0, loss: 0.0028066486120224\n",
      "epoch #59, final dev accuracy: 0.9625589622641509\n",
      "train step #7599 accuracy: 1.0, loss: 0.0018755048513412476\n",
      "epoch #60, final dev accuracy: 0.9628537735849056\n",
      "saving best model...\n",
      "train step #7699 accuracy: 1.0, loss: 0.003686562180519104\n",
      "epoch #61, final dev accuracy: 0.9602004716981132\n",
      "train step #7799 accuracy: 1.0, loss: 0.0019683837890625\n",
      "epoch #62, final dev accuracy: 0.9607900943396226\n"
     ]
    },
    {
     "name": "stdout",
     "output_type": "stream",
     "text": [
      "train step #7899 accuracy: 1.0, loss: 0.001346677541732788\n",
      "train step #7999 accuracy: 1.0, loss: 0.0010441839694976807\n",
      "epoch #63, final dev accuracy: 0.9637382075471698\n",
      "saving best model...\n",
      "train step #8099 accuracy: 1.0, loss: 0.0018312633037567139\n",
      "epoch #64, final dev accuracy: 0.9515526729559748\n",
      "train step #8199 accuracy: 1.0, loss: 0.0013029277324676514\n",
      "epoch #65, final dev accuracy: 0.9604952830188679\n",
      "train step #8299 accuracy: 1.0, loss: 0.0011591315269470215\n",
      "epoch #66, final dev accuracy: 0.9550904088050314\n",
      "train step #8399 accuracy: 1.0, loss: 0.0005782246589660645\n",
      "train step #8499 accuracy: 1.0, loss: 0.0012674331665039062\n",
      "epoch #67, final dev accuracy: 0.9604952830188679\n",
      "train step #8599 accuracy: 1.0, loss: 0.0013405382633209229\n",
      "epoch #68, final dev accuracy: 0.9547955974842767\n",
      "train step #8699 accuracy: 1.0, loss: 0.0020675361156463623\n",
      "epoch #69, final dev accuracy: 0.9610849056603774\n",
      "train step #8799 accuracy: 1.0, loss: 0.002141624689102173\n",
      "epoch #70, final dev accuracy: 0.9631485849056604\n",
      "train step #8899 accuracy: 1.0, loss: 0.00070992112159729\n",
      "train step #8999 accuracy: 1.0, loss: 0.0008862614631652832\n",
      "epoch #71, final dev accuracy: 0.9610849056603774\n",
      "train step #9099 accuracy: 1.0, loss: 0.0008641183376312256\n",
      "epoch #72, final dev accuracy: 0.9607900943396226\n",
      "train step #9199 accuracy: 1.0, loss: 0.0012992918491363525\n",
      "epoch #73, final dev accuracy: 0.9616745283018868\n",
      "train step #9299 accuracy: 1.0, loss: 0.0008759796619415283\n",
      "epoch #74, final dev accuracy: 0.9616745283018868\n",
      "train step #9399 accuracy: 1.0, loss: 0.0014074742794036865\n",
      "train step #9499 accuracy: 1.0, loss: 0.0015604496002197266\n",
      "epoch #75, final dev accuracy: 0.9616745283018868\n",
      "train step #9599 accuracy: 1.0, loss: 0.001230776309967041\n",
      "epoch #76, final dev accuracy: 0.9628537735849056\n",
      "train step #9699 accuracy: 1.0, loss: 0.0006958246231079102\n",
      "epoch #77, final dev accuracy: 0.9584316037735849\n",
      "train step #9799 accuracy: 1.0, loss: 0.0012177526950836182\n",
      "epoch #78, final dev accuracy: 0.9616745283018868\n",
      "train step #9899 accuracy: 1.0, loss: 0.0013568103313446045\n",
      "train step #9999 accuracy: 1.0, loss: 0.0015542209148406982\n",
      "epoch #79, final dev accuracy: 0.9616745283018868\n",
      "train step #10099 accuracy: 1.0, loss: 0.0007481575012207031\n",
      "epoch #80, final dev accuracy: 0.9616745283018868\n",
      "train step #10199 accuracy: 1.0, loss: 0.0010917484760284424\n",
      "epoch #81, final dev accuracy: 0.9631485849056604\n",
      "train step #10299 accuracy: 1.0, loss: 0.001003861427307129\n",
      "epoch #82, final dev accuracy: 0.964622641509434\n",
      "saving best model...\n",
      "train step #10399 accuracy: 1.0, loss: 0.0014704465866088867\n",
      "train step #10499 accuracy: 1.0, loss: 0.001286238431930542\n",
      "epoch #83, final dev accuracy: 0.9613797169811321\n",
      "train step #10599 accuracy: 1.0, loss: 0.001641690731048584\n",
      "epoch #84, final dev accuracy: 0.9574488993710691\n",
      "train step #10699 accuracy: 1.0, loss: 0.0009499192237854004\n",
      "epoch #85, final dev accuracy: 0.9643278301886793\n",
      "train step #10799 accuracy: 1.0, loss: 0.0010938942432403564\n",
      "epoch #86, final dev accuracy: 0.9625589622641509\n",
      "train step #10899 accuracy: 1.0, loss: 0.0007933676242828369\n",
      "train step #10999 accuracy: 1.0, loss: 0.0008336305618286133\n",
      "epoch #87, final dev accuracy: 0.9625589622641509\n",
      "train step #11099 accuracy: 1.0, loss: 0.0005917847156524658\n",
      "epoch #88, final dev accuracy: 0.9571540880503144\n",
      "train step #11199 accuracy: 1.0, loss: 0.0011686384677886963\n",
      "epoch #89, final dev accuracy: 0.9625589622641509\n",
      "train step #11299 accuracy: 1.0, loss: 0.0004049539566040039\n",
      "epoch #90, final dev accuracy: 0.9574488993710691\n",
      "train step #11399 accuracy: 1.0, loss: 0.0006964206695556641\n",
      "train step #11499 accuracy: 1.0, loss: 0.0005716979503631592\n",
      "epoch #91, final dev accuracy: 0.9634433962264151\n",
      "train step #11599 accuracy: 1.0, loss: 0.0010094642639160156\n",
      "epoch #92, final dev accuracy: 0.9634433962264151\n",
      "train step #11699 accuracy: 1.0, loss: 0.0026838481426239014\n",
      "epoch #93, final dev accuracy: 0.9619693396226415\n",
      "train step #11799 accuracy: 1.0, loss: 0.0008413791656494141\n",
      "epoch #94, final dev accuracy: 0.9637382075471698\n",
      "train step #11899 accuracy: 1.0, loss: 0.0006044507026672363\n",
      "train step #11999 accuracy: 1.0, loss: 0.0020929276943206787\n",
      "epoch #95, final dev accuracy: 0.9631485849056604\n",
      "train step #12099 accuracy: 1.0, loss: 0.0004368722438812256\n",
      "epoch #96, final dev accuracy: 0.9634433962264151\n",
      "train step #12199 accuracy: 1.0, loss: 0.0009929537773132324\n",
      "epoch #97, final dev accuracy: 0.9622641509433962\n",
      "train step #12299 accuracy: 1.0, loss: 0.0021137595176696777\n",
      "epoch #98, final dev accuracy: 0.9574488993710691\n",
      "train step #12399 accuracy: 1.0, loss: 0.0012211501598358154\n",
      "train step #12499 accuracy: 1.0, loss: 0.0010499358177185059\n",
      "epoch #99, final dev accuracy: 0.9559748427672956\n",
      "final test accuracy: 0.9612728910237166\n"
     ]
    }
   ],
   "source": [
    "manifest_dir = \"manifest/commands/\"\n",
    "config['train_manifest']=os.path.join(manifest_dir,'si_{}_{}_manifest.csv'.format(\"commands\", \"train\"))\n",
    "config['val_manifest']=os.path.join(manifest_dir,'si_{}_{}_manifest.csv'.format(\"commands\", \"trainval\"))\n",
    "config['test_manifest']=os.path.join(manifest_dir,\"si_commands_trainval_manifest.csv\")\n",
    "config['model'] = \"cnn\"\n",
    "config['n_labels'] = 100\n",
    "config['output_file'] = \"base_model.pth\"\n",
    "train.train(config, model=model)"
   ]
  },
  {
   "cell_type": "code",
   "execution_count": 92,
   "metadata": {},
   "outputs": [],
   "source": [
    "import torch\n",
    "state_dict= torch.load(\"base_model.pth\")"
   ]
  },
  {
   "cell_type": "code",
   "execution_count": 96,
   "metadata": {},
   "outputs": [],
   "source": [
    "model.state_dict().update(state_dict)"
   ]
  },
  {
   "cell_type": "code",
   "execution_count": 103,
   "metadata": {},
   "outputs": [
    {
     "data": {
      "text/plain": [
       "<generator object Module.parameters at 0x7fa7c5f73620>"
      ]
     },
     "execution_count": 103,
     "metadata": {},
     "output_type": "execute_result"
    }
   ],
   "source": [
    "model.parameters()"
   ]
  },
  {
   "cell_type": "code",
   "execution_count": null,
   "metadata": {},
   "outputs": [],
   "source": []
  }
 ],
 "metadata": {
  "kernelspec": {
   "display_name": "Pytorch",
   "language": "python",
   "name": "pytorch"
  },
  "language_info": {
   "codemirror_mode": {
    "name": "ipython",
    "version": 3
   },
   "file_extension": ".py",
   "mimetype": "text/x-python",
   "name": "python",
   "nbconvert_exporter": "python",
   "pygments_lexer": "ipython3",
   "version": "3.6.2"
  }
 },
 "nbformat": 4,
 "nbformat_minor": 2
}
